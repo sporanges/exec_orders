{
 "cells": [
  {
   "cell_type": "code",
   "execution_count": 25,
   "id": "5543df3a",
   "metadata": {
    "tags": []
   },
   "outputs": [],
   "source": [
    "#step 2: clean the data because even though it's regarding the highest office in the country,\n",
    "#it's still a govennment website\n",
    "\n",
    "import pandas as pd\n",
    "import numpy as np\n",
    "pd.options.mode.chained_assignment = None\n",
    "\n",
    "df_old = pd.read_csv('scraped_data.csv')\n",
    "print(df_old.shape)\n",
    "print(df_old.head())"
   ]
  },
  {
   "cell_type": "code",
   "execution_count": 27,
   "id": "8c28efad-bb01-4a80-bd88-99b77d8b3188",
   "metadata": {},
   "outputs": [
    {
     "name": "stdout",
     "output_type": "stream",
     "text": [
      "(6, 1)\n",
      "                                                    data\n",
      "9582   Decontrol of crude oil and refined petroleum p...\n",
      "9808          President's Commission on Strategic Forces\n",
      "10004                        Regulatory planning process\n",
      "10094  Prohibiting trade and certain transactions inv...\n",
      "10254  Delegating authority to implement assistance t...\n",
      "10396  Visit the Ronald Reagan Presidential Library a...\n"
     ]
    }
   ],
   "source": [
    "#This is the ugly part where I have to manually edit some parts of the data\n",
    "#pls forgive me\n",
    "\n",
    "#just to see the rows of data that need manual edits\n",
    "df_bads = df_old[~df_old['data'].str.startswith('Executive')]\n",
    "df_bads = df_bads[~df_bads['data'].str.startswith('Signed')]\n",
    "print(df_bads.shape)\n",
    "print(df_bads)"
   ]
  },
  {
   "cell_type": "code",
   "execution_count": 28,
   "id": "60037bc7-50cc-48ef-8b42-967fea2cbf3c",
   "metadata": {},
   "outputs": [],
   "source": [
    "#lil ugly manual adjustments to insert missing order numbers\n",
    "#row 9582 - order number 12287 - 1981\n",
    "df_old.loc[[9582]] = df_old.loc[[9582]].replace('Decontrol of crude oil and refined petroleum products', 'Executive Order 12287 \\nDecontrol of crude oil and refined petroleum products', regex=False)\n",
    "\n",
    "#row 9808 - order number 12400 - 1983\n",
    "df_old.loc[[9808]] = df_old.loc[[9808]].replace('President\\'s Commission on Strategic Forces', 'Executive Order 12400 \\nPresident\\'s Commission on Strategic Forces', regex=False)\n",
    "\n",
    "#row 10004 - order number 12498 - 1985\n",
    "df_old.loc[[10004]] = df_old.loc[[10004]].replace('Regulatory planning process', 'Executive Order 12498 \\nRegulatory planning process', regex=False)\n",
    "\n",
    "#row 10094 - order number 12543 - 1986\n",
    "df_old.loc[[10094]] = df_old.loc[[10094]].replace('Prohibiting trade and certain transactions involving Libya', 'Executive Order 12543 \\nProhibiting trade and certain transactions involving Libya', regex=False)\n",
    "\n",
    "#row 10254 - order number 12623 - 1988\n",
    "df_old.loc[[10254]] = df_old.loc[[10254]].replace('Delegating authority to implement assistance to the Nicaraguan Democratic Resistance', 'Executive Order 12623 \\nDelegating authority to implement assistance to the Nicaraguan Democratic Resistance', regex=False)\n",
    "\n",
    "#row 10396 - order number 12663 - 1989\n",
    "df_old.loc[[10396]] = df_old.loc[[10396]].replace('Visit the Ronald Reagan Presidential Library and Museum', 'Executive Order 12663 \\nAdjustments of certain rates of pay and allowances', regex=False)\n",
    "\n",
    "#row 2145 - signing date and fed register page and date are mashed together\n",
    "df_old.loc[[2145]] = df_old.loc[[2145]].replace('Signed: 5 FR 4558, November 18, 194November 20, 1940', 'Signed: November 18, 1940 \\nFederal Register page and date: 5 FR 4558, November 20, 1940', regex=False)"
   ]
  },
  {
   "cell_type": "code",
   "execution_count": 29,
   "id": "682005a7-0a60-49b0-8d11-2984fe6d8578",
   "metadata": {},
   "outputs": [
    {
     "name": "stdout",
     "output_type": "stream",
     "text": [
      "                                                   data\n",
      "9582  Executive Order 12287 \\nDecontrol of crude oil...\n",
      "                                                   data\n",
      "9808  Executive Order 12400 \\nPresident's Commission...\n",
      "                                                    data\n",
      "10004  Executive Order 12498 \\nRegulatory planning pr...\n",
      "                                                    data\n",
      "10094  Executive Order 12543 \\nProhibiting trade and ...\n",
      "                                                    data\n",
      "10254  Executive Order 12623 \\nDelegating authority t...\n",
      "                                                    data\n",
      "10396  Executive Order 12663 \\nAdjustments of certain...\n"
     ]
    }
   ],
   "source": [
    "#to view and verify they updated properly\n",
    "print(df_old.loc[[9582]])\n",
    "print(df_old.loc[[9808]])\n",
    "print(df_old.loc[[10004]])\n",
    "print(df_old.loc[[10094]])\n",
    "print(df_old.loc[[10254]])\n",
    "print(df_old.loc[[10396]])\n",
    "print(df_old.loc[[2145]])"
   ]
  },
  {
   "cell_type": "code",
   "execution_count": 52,
   "id": "28ff01cd-1867-4940-80f7-6402d79ca0e8",
   "metadata": {},
   "outputs": [
    {
     "name": "stdout",
     "output_type": "stream",
     "text": [
      "(5449, 1)\n",
      "(5449, 1)\n"
     ]
    }
   ],
   "source": [
    "#split the dataframe and make sure they're of equal length\n",
    "df_nums = df_old[df_old['data'].str.startswith('Executive')]\n",
    "df_dates = df_old[df_old['data'].str.startswith('Signed')]\n",
    "print(df_nums.shape)\n",
    "print(df_dates.shape)"
   ]
  },
  {
   "cell_type": "code",
   "execution_count": 53,
   "id": "f5457d8e-03ca-48c2-a5a0-13430a58d84b",
   "metadata": {},
   "outputs": [
    {
     "name": "stdout",
     "output_type": "stream",
     "text": [
      "                                                data\n",
      "0  7532 \\nEstablishing Shinnecock Migratory Bird ...\n",
      "2  7533 \\nExemption of James E. Tibbitts From Com...\n",
      "4  7534 \\nExcluding Land From Sitgreaves National...\n",
      "6  7535 \\nPartial Revocation of   6110 of May 2, ...\n",
      "8  7536 \\nPartial Revocation of   5687 of August ...\n"
     ]
    }
   ],
   "source": [
    "#trim unecessary strings and make for easier processing\n",
    "#because some rows have '\\n' between 'Executive Order' and the order number\n",
    "df_nums['data'] = df_nums['data'].str.replace('Executive Order', '', regex=False)\n",
    "df_nums['data'] = df_nums['data'].str.replace('No.', '', regex=False)\n",
    "df_nums['data'] = df_nums['data'].str.strip()\n",
    "print(df_nums.head())"
   ]
  },
  {
   "cell_type": "code",
   "execution_count": 54,
   "id": "6c885e42-a506-48b0-bf8a-2f9ffbd2495c",
   "metadata": {},
   "outputs": [
    {
     "name": "stdout",
     "output_type": "stream",
     "text": [
      "                                                data executive_order_number  \\\n",
      "0  7532 \\nEstablishing Shinnecock Migratory Bird ...                  7532    \n",
      "2  7533 \\nExemption of James E. Tibbitts From Com...                  7533    \n",
      "4  7534 \\nExcluding Land From Sitgreaves National...                  7534    \n",
      "6  7535 \\nPartial Revocation of   6110 of May 2, ...                  7535    \n",
      "8  7536 \\nPartial Revocation of   5687 of August ...                  7536    \n",
      "\n",
      "                                               title  \n",
      "0  Establishing Shinnecock Migratory Bird Refuge,...  \n",
      "2  Exemption of James E. Tibbitts From Compulsory...  \n",
      "4  Excluding Land From Sitgreaves National Forest...  \n",
      "6  Partial Revocation of   6110 of May 2, 1933, W...  \n",
      "8  Partial Revocation of   5687 of August 18, 193...  \n"
     ]
    }
   ],
   "source": [
    "#split the order number and title\n",
    "df_nums[['executive_order_number', 'title']] = df_nums['data'].str.split('\\n', n=1, expand=True)\n",
    "print(df_nums.head())"
   ]
  },
  {
   "cell_type": "code",
   "execution_count": 64,
   "id": "b9efbd3d-ad53-49f0-8ab7-13bcfc8e63a2",
   "metadata": {},
   "outputs": [
    {
     "name": "stdout",
     "output_type": "stream",
     "text": [
      "                                                data  \\\n",
      "1  January 8, 1937\\nFederal Register page and dat...   \n",
      "3  January 11, 1937 \\nNote: This Executive order ...   \n",
      "5  January 12, 1937\\nFederal Register page and da...   \n",
      "7  January 12, 1937\\nFederal Register page and da...   \n",
      "9  January 12, 1937\\nFederal Register page and da...   \n",
      "\n",
      "                signing_date  \\\n",
      "1    Signed: January 8, 1937   \n",
      "3  Signed: January 11, 1937    \n",
      "5   Signed: January 12, 1937   \n",
      "7   Signed: January 12, 1937   \n",
      "9   Signed: January 12, 1937   \n",
      "\n",
      "                                   disposition_notes  count  \n",
      "1  Federal Register page and date: 2 FR 63, Janua...      0  \n",
      "3  Note: This Executive order was not received fo...      1  \n",
      "5  Federal Register page and date: 2 FR 87, Janua...      2  \n",
      "7  Federal Register page and date: 2 FR 88, Janua...      3  \n",
      "9  Federal Register page and date: 2 FR 88, Janua...      4  \n"
     ]
    }
   ],
   "source": [
    "df_dates['data'] = df_dates['data'].str.replace('Signed:', '', regex=False)\n",
    "df_dates['data'] = df_dates['data'].str.strip()\n",
    "print(df_dates.head())"
   ]
  },
  {
   "cell_type": "code",
   "execution_count": 65,
   "id": "6fe4c474-cae3-4059-bd73-a14026baa193",
   "metadata": {},
   "outputs": [
    {
     "name": "stdout",
     "output_type": "stream",
     "text": [
      "                                                data       signing_date  \\\n",
      "1  January 8, 1937\\nFederal Register page and dat...    January 8, 1937   \n",
      "3  January 11, 1937 \\nNote: This Executive order ...  January 11, 1937    \n",
      "5  January 12, 1937\\nFederal Register page and da...   January 12, 1937   \n",
      "7  January 12, 1937\\nFederal Register page and da...   January 12, 1937   \n",
      "9  January 12, 1937\\nFederal Register page and da...   January 12, 1937   \n",
      "\n",
      "                                   disposition_notes  count  \n",
      "1  Federal Register page and date: 2 FR 63, Janua...      0  \n",
      "3  Note: This Executive order was not received fo...      1  \n",
      "5  Federal Register page and date: 2 FR 87, Janua...      2  \n",
      "7  Federal Register page and date: 2 FR 88, Janua...      3  \n",
      "9  Federal Register page and date: 2 FR 88, Janua...      4  \n"
     ]
    }
   ],
   "source": [
    "df_dates[['signing_date', 'disposition_notes']] = df_dates['data'].str.split('\\n', n=1, expand=True)\n",
    "print(df_dates.head())"
   ]
  },
  {
   "cell_type": "code",
   "execution_count": 66,
   "id": "9fc4a0a9-6eca-4237-bf24-ebd736885684",
   "metadata": {},
   "outputs": [
    {
     "name": "stdout",
     "output_type": "stream",
     "text": [
      "5449\n"
     ]
    }
   ],
   "source": [
    "print(df_nums.shape[0])"
   ]
  },
  {
   "cell_type": "code",
   "execution_count": 67,
   "id": "d764a52b-00bb-4e20-8c35-100a983ed03f",
   "metadata": {},
   "outputs": [],
   "source": [
    "df_nums['count'] = [*range(df_nums.shape[0])]\n",
    "df_dates['count'] = [*range(df_dates.shape[0])]"
   ]
  },
  {
   "cell_type": "code",
   "execution_count": 68,
   "id": "06c0a8d3-afe4-4435-9a43-47602d5ef84e",
   "metadata": {},
   "outputs": [
    {
     "name": "stdout",
     "output_type": "stream",
     "text": [
      "                                                data executive_order_number  \\\n",
      "0  7532 \\nEstablishing Shinnecock Migratory Bird ...                  7532    \n",
      "2  7533 \\nExemption of James E. Tibbitts From Com...                  7533    \n",
      "4  7534 \\nExcluding Land From Sitgreaves National...                  7534    \n",
      "6  7535 \\nPartial Revocation of   6110 of May 2, ...                  7535    \n",
      "8  7536 \\nPartial Revocation of   5687 of August ...                  7536    \n",
      "\n",
      "                                               title  count  \n",
      "0  Establishing Shinnecock Migratory Bird Refuge,...      0  \n",
      "2  Exemption of James E. Tibbitts From Compulsory...      1  \n",
      "4  Excluding Land From Sitgreaves National Forest...      2  \n",
      "6  Partial Revocation of   6110 of May 2, 1933, W...      3  \n",
      "8  Partial Revocation of   5687 of August 18, 193...      4  \n",
      "                                                data       signing_date  \\\n",
      "1  January 8, 1937\\nFederal Register page and dat...    January 8, 1937   \n",
      "3  January 11, 1937 \\nNote: This Executive order ...  January 11, 1937    \n",
      "5  January 12, 1937\\nFederal Register page and da...   January 12, 1937   \n",
      "7  January 12, 1937\\nFederal Register page and da...   January 12, 1937   \n",
      "9  January 12, 1937\\nFederal Register page and da...   January 12, 1937   \n",
      "\n",
      "                                   disposition_notes  count  \n",
      "1  Federal Register page and date: 2 FR 63, Janua...      0  \n",
      "3  Note: This Executive order was not received fo...      1  \n",
      "5  Federal Register page and date: 2 FR 87, Janua...      2  \n",
      "7  Federal Register page and date: 2 FR 88, Janua...      3  \n",
      "9  Federal Register page and date: 2 FR 88, Janua...      4  \n"
     ]
    }
   ],
   "source": [
    "print(df_nums.head())\n",
    "print(df_dates.head())"
   ]
  },
  {
   "cell_type": "code",
   "execution_count": 69,
   "id": "5531a064-3d8b-4dee-b468-14a72d78d0b5",
   "metadata": {},
   "outputs": [
    {
     "name": "stdout",
     "output_type": "stream",
     "text": [
      "  executive_order_number                                              title  \\\n",
      "0                  7532   Establishing Shinnecock Migratory Bird Refuge,...   \n",
      "1                  7533   Exemption of James E. Tibbitts From Compulsory...   \n",
      "2                  7534   Excluding Land From Sitgreaves National Forest...   \n",
      "3                  7535   Partial Revocation of   6110 of May 2, 1933, W...   \n",
      "4                  7536   Partial Revocation of   5687 of August 18, 193...   \n",
      "\n",
      "   count       signing_date                                  disposition_notes  \n",
      "0      0    January 8, 1937  Federal Register page and date: 2 FR 63, Janua...  \n",
      "1      1  January 11, 1937   Note: This Executive order was not received fo...  \n",
      "2      2   January 12, 1937  Federal Register page and date: 2 FR 87, Janua...  \n",
      "3      3   January 12, 1937  Federal Register page and date: 2 FR 88, Janua...  \n",
      "4      4   January 12, 1937  Federal Register page and date: 2 FR 88, Janua...  \n"
     ]
    }
   ],
   "source": [
    "df_all = df_nums[['executive_order_number', 'title', 'count']].merge(df_dates[['signing_date', 'disposition_notes', 'count']], on='count')\n",
    "print(df_all.head())"
   ]
  },
  {
   "cell_type": "code",
   "execution_count": 70,
   "id": "17236aa9-f288-4616-a8d4-20c7e997d321",
   "metadata": {},
   "outputs": [
    {
     "name": "stdout",
     "output_type": "stream",
     "text": [
      "  executive_order_number                                              title  \\\n",
      "0                  7532   Establishing Shinnecock Migratory Bird Refuge,...   \n",
      "1                  7533   Exemption of James E. Tibbitts From Compulsory...   \n",
      "2                  7534   Excluding Land From Sitgreaves National Forest...   \n",
      "3                  7535   Partial Revocation of   6110 of May 2, 1933, W...   \n",
      "4                  7536   Partial Revocation of   5687 of August 18, 193...   \n",
      "\n",
      "        signing_date                                  disposition_notes  \n",
      "0    January 8, 1937  Federal Register page and date: 2 FR 63, Janua...  \n",
      "1  January 11, 1937   Note: This Executive order was not received fo...  \n",
      "2   January 12, 1937  Federal Register page and date: 2 FR 87, Janua...  \n",
      "3   January 12, 1937  Federal Register page and date: 2 FR 88, Janua...  \n",
      "4   January 12, 1937  Federal Register page and date: 2 FR 88, Janua...  \n"
     ]
    }
   ],
   "source": [
    "df_all = df_all.drop(['count'], axis = 1)\n",
    "print(df_all.head())"
   ]
  },
  {
   "cell_type": "code",
   "execution_count": 71,
   "id": "a5cd4bbb-57cd-411e-9179-352b7459cd1b",
   "metadata": {},
   "outputs": [
    {
     "name": "stdout",
     "output_type": "stream",
     "text": [
      "  executive_order_number                                              title  \\\n",
      "0                   7532  Establishing Shinnecock Migratory Bird Refuge,...   \n",
      "1                   7533  Exemption of James E. Tibbitts From Compulsory...   \n",
      "2                   7534  Excluding Land From Sitgreaves National Forest...   \n",
      "3                   7535  Partial Revocation of   6110 of May 2, 1933, W...   \n",
      "4                   7536  Partial Revocation of   5687 of August 18, 193...   \n",
      "\n",
      "       signing_date                                  disposition_notes  \n",
      "0   January 8, 1937  Federal Register page and date: 2 FR 63, Janua...  \n",
      "1  January 11, 1937  Note: This Executive order was not received fo...  \n",
      "2  January 12, 1937  Federal Register page and date: 2 FR 87, Janua...  \n",
      "3  January 12, 1937  Federal Register page and date: 2 FR 88, Janua...  \n",
      "4  January 12, 1937  Federal Register page and date: 2 FR 88, Janua...  \n"
     ]
    }
   ],
   "source": [
    "for col in list(df_all):\n",
    "    df_all[col] = df_all[col].str.strip()\n",
    "print(df_all.head())"
   ]
  },
  {
   "cell_type": "code",
   "execution_count": 63,
   "id": "bdf201ae-1706-47bb-9383-82bae49b43ae",
   "metadata": {},
   "outputs": [
    {
     "name": "stdout",
     "output_type": "stream",
     "text": [
      "     executive_order_number  \\\n",
      "2498                  10000   \n",
      "2499                  10001   \n",
      "2500                  10002   \n",
      "2501                  10003   \n",
      "2502                  10004   \n",
      "\n",
      "                                                  title  \\\n",
      "2498  Regulations Governing Additional Compensation ...   \n",
      "2499  Prescribing or Amending Portions of the Select...   \n",
      "2500  Exemption of Lawrence M. Lawson From Compulsor...   \n",
      "2501  Providing for the Investigation of and Report ...   \n",
      "2502  Prescribing Procedures for the Administration ...   \n",
      "\n",
      "                    signing_date  \\\n",
      "2498  Signed: September 16, 1948   \n",
      "2499  Signed: September 17, 1948   \n",
      "2500  Signed: September 17, 1948   \n",
      "2501     Signed: October 4, 1948   \n",
      "2502     Signed: October 5, 1948   \n",
      "\n",
      "                                      disposition_notes  \n",
      "2498  Federal Register page and date: 13 FR 5453, Se...  \n",
      "2499  Federal Register page and date: 13 FR 5473, Se...  \n",
      "2500  Federal Register page and date: 13 FR 5485, Se...  \n",
      "2501  Federal Register page and date: 13 FR 5819, Oc...  \n",
      "2502  Federal Register page and date: 13 FR 5851, Oc...  \n"
     ]
    }
   ],
   "source": [
    "print(df_all.sort_values(by='executive_order_number', ascending = True).head())"
   ]
  },
  {
   "cell_type": "code",
   "execution_count": 72,
   "id": "6ce90479-12a5-4656-9159-a92a982af55e",
   "metadata": {},
   "outputs": [],
   "source": [
    "df_all.to_csv('cleaned_data.csv', index=False)"
   ]
  },
  {
   "cell_type": "code",
   "execution_count": 73,
   "id": "bc4d8e16-75b6-4da3-af46-f3972d9e6fd1",
   "metadata": {},
   "outputs": [
    {
     "name": "stdout",
     "output_type": "stream",
     "text": [
      "    executive_order_number                                              title  \\\n",
      "766                   8291  Excusing Federal Employees From Duty on Decemb...   \n",
      "\n",
      "                                          signing_date disposition_notes  \n",
      "766  November 30, 1939 Federal Register page and da...              None  \n"
     ]
    }
   ],
   "source": [
    "print(df_all.loc[[766]])"
   ]
  },
  {
   "cell_type": "code",
   "execution_count": 9,
   "id": "eb10ee4e-365f-497b-99d3-9c262b4a5b12",
   "metadata": {
    "collapsed": true,
    "jupyter": {
     "outputs_hidden": true,
     "source_hidden": true
    },
    "tags": []
   },
   "outputs": [
    {
     "name": "stdout",
     "output_type": "stream",
     "text": [
      "joseph_r_biden_jr\n",
      "donald_trump\n",
      "barack_obama\n",
      "george_w_bush\n",
      "william_j_clinton\n",
      "  executive_order_number                                              title  \\\n",
      "0                  14040  Declassification Reviews of Certain Documents ...   \n",
      "1                  14041  White House Initiative on Advancing Educationa...   \n",
      "2                  14039  Blocking Property With Respect to Certain Russ...   \n",
      "3                  14038  Blocking Property of Additional Persons Contri...   \n",
      "4                  14037  Strengthening American Leadership in Clean Car...   \n",
      "\n",
      "  signing_date             disposition_notes  \n",
      "0   09/03/2021                           NaN  \n",
      "1   09/03/2021                           NaN  \n",
      "2   08/20/2021                           NaN  \n",
      "3   08/09/2021  See: EO 13405, June 16, 2006  \n",
      "4   08/05/2021                           NaN  \n",
      "(1098, 4)\n"
     ]
    }
   ],
   "source": [
    "#import data from bulk CSV downloads\n",
    "\n",
    "file_prefix = 'documents_signed_by_'\n",
    "pres_names = ['joseph_r_biden_jr', 'donald_trump', 'barack_obama', 'george_w_bush', 'william_j_clinton']\n",
    "file_suffix = '_of_type_presidential_document_and_of_presidential_document_type_executive_order.csv'\n",
    "colnames = ['executive_order_number', 'title', 'signing_date', 'disposition_notes']\n",
    "\n",
    "df_all = pd.DataFrame(columns = colnames)\n",
    "for name in pres_names:\n",
    "    filename = file_prefix + name + file_suffix\n",
    "    df = pd.read_csv(filename)\n",
    "    df_subset = df[colnames]\n",
    "    print(name)\n",
    "    df_all = df_all.append(df_subset)\n",
    "print(df_all.head())\n",
    "print(df_all.shape)"
   ]
  }
 ],
 "metadata": {
  "kernelspec": {
   "display_name": "Python 3",
   "language": "python",
   "name": "python3"
  },
  "language_info": {
   "codemirror_mode": {
    "name": "ipython",
    "version": 3
   },
   "file_extension": ".py",
   "mimetype": "text/x-python",
   "name": "python",
   "nbconvert_exporter": "python",
   "pygments_lexer": "ipython3",
   "version": "3.9.4"
  }
 },
 "nbformat": 4,
 "nbformat_minor": 5
}
