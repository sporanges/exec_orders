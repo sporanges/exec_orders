{
 "cells": [
  {
   "cell_type": "code",
   "execution_count": 30,
   "id": "5543df3a",
   "metadata": {
    "tags": []
   },
   "outputs": [],
   "source": [
    "#step 2: clean the data because even though it's regarding the highest office in the country,\n",
    "#it's still a govennment website\n",
    "\n",
    "import pandas as pd\n",
    "import numpy as np"
   ]
  },
  {
   "cell_type": "code",
   "execution_count": 31,
   "id": "36a2d281-2d3b-47a7-9c18-6b0bc0f50928",
   "metadata": {},
   "outputs": [
    {
     "name": "stdout",
     "output_type": "stream",
     "text": [
      "(10900, 1)\n",
      "                                                data\n",
      "0  Executive Order 7532 \\nEstablishing Shinnecock...\n",
      "1  Signed: January 8, 1937\\nFederal Register page...\n",
      "2  Executive Order   7533 \\nExemption of James E....\n",
      "3  Signed: January 11, 1937 \\nNote: This Executiv...\n",
      "4  Executive Order   7534 \\nExcluding Land From S...\n"
     ]
    }
   ],
   "source": [
    "df_old = pd.read_csv('scraped_data.csv')\n",
    "print(df_old.shape)\n",
    "print(df_old.head())"
   ]
  },
  {
   "cell_type": "code",
   "execution_count": 32,
   "id": "28ff01cd-1867-4940-80f7-6402d79ca0e8",
   "metadata": {},
   "outputs": [
    {
     "name": "stdout",
     "output_type": "stream",
     "text": [
      "(5443, 1)\n",
      "(5449, 1)\n"
     ]
    }
   ],
   "source": [
    "df_nums = df_old[df_old['data'].str.startswith('Executive')]\n",
    "df_dates = df_old[df_old['data'].str.startswith('Signed')]\n",
    "print(df_nums.shape)\n",
    "print(df_dates.shape)"
   ]
  },
  {
   "cell_type": "code",
   "execution_count": 35,
   "id": "8c28efad-bb01-4a80-bd88-99b77d8b3188",
   "metadata": {},
   "outputs": [
    {
     "name": "stdout",
     "output_type": "stream",
     "text": [
      "(8, 1)\n",
      "                                                    data\n",
      "8420          President's Commission on Strategic Forces\n",
      "8616                         Regulatory planning process\n",
      "8706   Prohibiting trade and certain transactions inv...\n",
      "8780                    Ronald Reagan Disposition Tables\n",
      "8867   Delegating authority to implement assistance t...\n",
      "10601  Decontrol of crude oil and refined petroleum p...\n",
      "10701  Visit the Ronald Reagan Presidential Library a...\n",
      "10702                   Ronald Reagan Disposition Tables\n"
     ]
    }
   ],
   "source": [
    "df_nnums = df_old[~df_old['data'].str.startswith('Executive')]\n",
    "df_nnums = df_nnums[~df_nnums['data'].str.startswith('Signed')]\n",
    "print(df_nnums.shape)\n",
    "print(df_nnums)"
   ]
  },
  {
   "cell_type": "code",
   "execution_count": null,
   "id": "fe089867-809e-4702-8789-5381943470cc",
   "metadata": {},
   "outputs": [],
   "source": [
    "'''This is the ugly part where I have to manually edit some parts of the data'''"
   ]
  },
  {
   "cell_type": "code",
   "execution_count": null,
   "id": "60037bc7-50cc-48ef-8b42-967fea2cbf3c",
   "metadata": {},
   "outputs": [],
   "source": []
  },
  {
   "cell_type": "code",
   "execution_count": 9,
   "id": "eb10ee4e-365f-497b-99d3-9c262b4a5b12",
   "metadata": {
    "collapsed": true,
    "jupyter": {
     "outputs_hidden": true,
     "source_hidden": true
    },
    "tags": []
   },
   "outputs": [
    {
     "name": "stdout",
     "output_type": "stream",
     "text": [
      "joseph_r_biden_jr\n",
      "donald_trump\n",
      "barack_obama\n",
      "george_w_bush\n",
      "william_j_clinton\n",
      "  executive_order_number                                              title  \\\n",
      "0                  14040  Declassification Reviews of Certain Documents ...   \n",
      "1                  14041  White House Initiative on Advancing Educationa...   \n",
      "2                  14039  Blocking Property With Respect to Certain Russ...   \n",
      "3                  14038  Blocking Property of Additional Persons Contri...   \n",
      "4                  14037  Strengthening American Leadership in Clean Car...   \n",
      "\n",
      "  signing_date             disposition_notes  \n",
      "0   09/03/2021                           NaN  \n",
      "1   09/03/2021                           NaN  \n",
      "2   08/20/2021                           NaN  \n",
      "3   08/09/2021  See: EO 13405, June 16, 2006  \n",
      "4   08/05/2021                           NaN  \n",
      "(1098, 4)\n"
     ]
    }
   ],
   "source": [
    "#import data from bulk CSV downloads\n",
    "\n",
    "file_prefix = 'documents_signed_by_'\n",
    "pres_names = ['joseph_r_biden_jr', 'donald_trump', 'barack_obama', 'george_w_bush', 'william_j_clinton']\n",
    "file_suffix = '_of_type_presidential_document_and_of_presidential_document_type_executive_order.csv'\n",
    "colnames = ['executive_order_number', 'title', 'signing_date', 'disposition_notes']\n",
    "\n",
    "df_all = pd.DataFrame(columns = colnames)\n",
    "for name in pres_names:\n",
    "    filename = file_prefix + name + file_suffix\n",
    "    df = pd.read_csv(filename)\n",
    "    df_subset = df[colnames]\n",
    "    print(name)\n",
    "    df_all = df_all.append(df_subset)\n",
    "print(df_all.head())\n",
    "print(df_all.shape)"
   ]
  }
 ],
 "metadata": {
  "kernelspec": {
   "display_name": "Python 3",
   "language": "python",
   "name": "python3"
  },
  "language_info": {
   "codemirror_mode": {
    "name": "ipython",
    "version": 3
   },
   "file_extension": ".py",
   "mimetype": "text/x-python",
   "name": "python",
   "nbconvert_exporter": "python",
   "pygments_lexer": "ipython3",
   "version": "3.9.4"
  }
 },
 "nbformat": 4,
 "nbformat_minor": 5
}
