{
 "cells": [
  {
   "cell_type": "code",
   "execution_count": null,
   "id": "bc6ffc9d-0c77-4a24-9b03-1b4182fa01c4",
   "metadata": {},
   "outputs": [],
   "source": []
  },
  {
   "cell_type": "code",
   "execution_count": null,
   "id": "562d35ae-9479-4d99-b12f-52dbcc4ef9ad",
   "metadata": {},
   "outputs": [],
   "source": [
    "#import data from bulk CSV downloads\n",
    "\n",
    "file_prefix = 'documents_signed_by_'\n",
    "pres_names = ['joseph_r_biden_jr', 'donald_trump', 'barack_obama', 'george_w_bush', 'william_j_clinton']\n",
    "file_suffix = '_of_type_presidential_document_and_of_presidential_document_type_executive_order.csv'\n",
    "colnames = ['executive_order_number', 'title', 'signing_date', 'disposition_notes']\n",
    "\n",
    "df_all = pd.DataFrame(columns = colnames)\n",
    "for name in pres_names:\n",
    "    filename = file_prefix + name + file_suffix\n",
    "    df = pd.read_csv(filename)\n",
    "    df_subset = df[colnames]\n",
    "    print(name)\n",
    "    df_all = df_all.append(df_subset)\n",
    "print(df_all.head())\n",
    "print(df_all.shape)"
   ]
  }
 ],
 "metadata": {
  "kernelspec": {
   "display_name": "Python 3",
   "language": "python",
   "name": "python3"
  },
  "language_info": {
   "codemirror_mode": {
    "name": "ipython",
    "version": 3
   },
   "file_extension": ".py",
   "mimetype": "text/x-python",
   "name": "python",
   "nbconvert_exporter": "python",
   "pygments_lexer": "ipython3",
   "version": "3.9.4"
  }
 },
 "nbformat": 4,
 "nbformat_minor": 5
}
