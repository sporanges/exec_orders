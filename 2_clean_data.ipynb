{
 "cells": [
  {
   "cell_type": "code",
   "execution_count": 10,
   "id": "5543df3a",
   "metadata": {
    "tags": []
   },
   "outputs": [],
   "source": [
    "#step 2: clean the data because even though it's regarding the highest office in the country,\n",
    "#it's still a govennment website\n",
    "\n",
    "import pandas as pd"
   ]
  },
  {
   "cell_type": "code",
   "execution_count": 11,
   "id": "36a2d281-2d3b-47a7-9c18-6b0bc0f50928",
   "metadata": {},
   "outputs": [
    {
     "name": "stdout",
     "output_type": "stream",
     "text": [
      "    executive_order_number                                              title  \\\n",
      "0    Executive Order 7532   Establishing Shinnecock Migratory Bird Refuge,...   \n",
      "1  Executive Order   7533   Exemption of James E. Tibbitts From Compulsory...   \n",
      "2  Executive Order   7534   Excluding Land From Sitgreaves National Forest...   \n",
      "3  Executive Order   7535   Partial Revocation of Executive Order No. 6110...   \n",
      "4  Executive Order   7536   Partial Revocation of Executive Order No. 5687...   \n",
      "\n",
      "                signing_date  \\\n",
      "0    Signed: January 8, 1937   \n",
      "1  Signed: January 11, 1937    \n",
      "2   Signed: January 12, 1937   \n",
      "3   Signed: January 12, 1937   \n",
      "4   Signed: January 12, 1937   \n",
      "\n",
      "                                   disposition_notes  \n",
      "0  Federal Register page and date: 2 FR 63, Janua...  \n",
      "1  Note: This Executive order was not received fo...  \n",
      "2  Federal Register page and date: 2 FR 87, Janua...  \n",
      "3  Federal Register page and date: 2 FR 88, Janua...  \n",
      "4  Federal Register page and date: 2 FR 88, Janua...  \n"
     ]
    }
   ],
   "source": [
    "df_old = pd.read_csv('scraped_data.csv')\n",
    "print(df_old.head())"
   ]
  },
  {
   "cell_type": "code",
   "execution_count": 17,
   "id": "f43811b8-bae8-4018-9e0b-1a8b8039c52e",
   "metadata": {},
   "outputs": [
    {
     "name": "stdout",
     "output_type": "stream",
     "text": [
      "(1173, 4)\n",
      "(1095, 4)\n",
      "(6456, 4)\n"
     ]
    }
   ],
   "source": [
    "df_null = df_old[df_old['executive_order_number'].isna()]\n",
    "print(df_null.shape)\n",
    "\n",
    "df_ndate = df_old[df_old['signing_date'].isna()]\n",
    "print(df_ndate.shape)\n",
    "print(df_old.shape)"
   ]
  },
  {
   "cell_type": "code",
   "execution_count": 9,
   "id": "eb10ee4e-365f-497b-99d3-9c262b4a5b12",
   "metadata": {
    "collapsed": true,
    "jupyter": {
     "outputs_hidden": true
    },
    "tags": []
   },
   "outputs": [
    {
     "name": "stdout",
     "output_type": "stream",
     "text": [
      "joseph_r_biden_jr\n",
      "donald_trump\n",
      "barack_obama\n",
      "george_w_bush\n",
      "william_j_clinton\n",
      "  executive_order_number                                              title  \\\n",
      "0                  14040  Declassification Reviews of Certain Documents ...   \n",
      "1                  14041  White House Initiative on Advancing Educationa...   \n",
      "2                  14039  Blocking Property With Respect to Certain Russ...   \n",
      "3                  14038  Blocking Property of Additional Persons Contri...   \n",
      "4                  14037  Strengthening American Leadership in Clean Car...   \n",
      "\n",
      "  signing_date             disposition_notes  \n",
      "0   09/03/2021                           NaN  \n",
      "1   09/03/2021                           NaN  \n",
      "2   08/20/2021                           NaN  \n",
      "3   08/09/2021  See: EO 13405, June 16, 2006  \n",
      "4   08/05/2021                           NaN  \n",
      "(1098, 4)\n"
     ]
    }
   ],
   "source": [
    "#import data from bulk CSV downloads\n",
    "\n",
    "file_prefix = 'documents_signed_by_'\n",
    "pres_names = ['joseph_r_biden_jr', 'donald_trump', 'barack_obama', 'george_w_bush', 'william_j_clinton']\n",
    "file_suffix = '_of_type_presidential_document_and_of_presidential_document_type_executive_order.csv'\n",
    "colnames = ['executive_order_number', 'title', 'signing_date', 'disposition_notes']\n",
    "\n",
    "df_all = pd.DataFrame(columns = colnames)\n",
    "for name in pres_names:\n",
    "    filename = file_prefix + name + file_suffix\n",
    "    df = pd.read_csv(filename)\n",
    "    df_subset = df[colnames]\n",
    "    print(name)\n",
    "    df_all = df_all.append(df_subset)\n",
    "print(df_all.head())\n",
    "print(df_all.shape)"
   ]
  }
 ],
 "metadata": {
  "kernelspec": {
   "display_name": "Python 3",
   "language": "python",
   "name": "python3"
  },
  "language_info": {
   "codemirror_mode": {
    "name": "ipython",
    "version": 3
   },
   "file_extension": ".py",
   "mimetype": "text/x-python",
   "name": "python",
   "nbconvert_exporter": "python",
   "pygments_lexer": "ipython3",
   "version": "3.9.4"
  }
 },
 "nbformat": 4,
 "nbformat_minor": 5
}
