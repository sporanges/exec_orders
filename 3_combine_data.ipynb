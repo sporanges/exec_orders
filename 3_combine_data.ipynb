{
 "cells": [
  {
   "cell_type": "code",
   "execution_count": 1,
   "id": "bc6ffc9d-0c77-4a24-9b03-1b4182fa01c4",
   "metadata": {},
   "outputs": [],
   "source": [
    "import pandas as pd\n",
    "import datetime\n",
    "pd.options.mode.chained_assignment = None"
   ]
  },
  {
   "cell_type": "code",
   "execution_count": 27,
   "id": "562d35ae-9479-4d99-b12f-52dbcc4ef9ad",
   "metadata": {
    "tags": []
   },
   "outputs": [
    {
     "name": "stdout",
     "output_type": "stream",
     "text": [
      "joseph_r_biden_jr\n",
      "donald_trump\n",
      "barack_obama\n",
      "george_w_bush\n",
      "william_j_clinton\n",
      "  executive_order_number                                              title  \\\n",
      "0                  14040  Declassification Reviews of Certain Documents ...   \n",
      "1                  14041  White House Initiative on Advancing Educationa...   \n",
      "2                  14039  Blocking Property With Respect to Certain Russ...   \n",
      "3                  14038  Blocking Property of Additional Persons Contri...   \n",
      "4                  14037  Strengthening American Leadership in Clean Car...   \n",
      "\n",
      "  signing_date             disposition_notes  \n",
      "0   09/03/2021                           NaN  \n",
      "1   09/03/2021                           NaN  \n",
      "2   08/20/2021                           NaN  \n",
      "3   08/09/2021  See: EO 13405, June 16, 2006  \n",
      "4   08/05/2021                           NaN  \n",
      "(1098, 4)\n"
     ]
    }
   ],
   "source": [
    "#import data from bulk CSV downloads\n",
    "\n",
    "file_prefix = 'documents_signed_by_'\n",
    "pres_names = ['joseph_r_biden_jr', 'donald_trump', 'barack_obama', 'george_w_bush', 'william_j_clinton']\n",
    "file_suffix = '_of_type_presidential_document_and_of_presidential_document_type_executive_order.csv'\n",
    "colnames = ['executive_order_number', 'title', 'signing_date', 'disposition_notes']\n",
    "\n",
    "df_all = pd.DataFrame(columns = colnames)\n",
    "for name in pres_names:\n",
    "    filename = file_prefix + name + file_suffix\n",
    "    df = pd.read_csv(filename)\n",
    "    df_subset = df[colnames]\n",
    "    print(name)\n",
    "    df_all = df_all.append(df_subset, ignore_index = True)\n",
    "print(df_all.head())\n",
    "print(df_all.shape)"
   ]
  },
  {
   "cell_type": "code",
   "execution_count": 28,
   "id": "5ca24112-519c-4d6e-a221-bb3ecaf0a88d",
   "metadata": {},
   "outputs": [
    {
     "name": "stdout",
     "output_type": "stream",
     "text": [
      "(5449, 4)\n",
      "(1098, 4)\n",
      "(6547, 4)\n"
     ]
    }
   ],
   "source": [
    "df_old = pd.read_csv('cleaned_data.csv')\n",
    "print(df_old.shape)\n",
    "print(df_all.shape)\n",
    "df_all = df_all.append(df_old, ignore_index = True)\n",
    "df_all['executive_order_number'] = df_all['executive_order_number'].astype(float)\n",
    "df_all.sort_values(by='executive_order_number', inplace = True)\n",
    "\n",
    "print(df_all.shape)"
   ]
  },
  {
   "cell_type": "code",
   "execution_count": 29,
   "id": "9366b6df-45b8-49d6-b6a7-395ffca596e2",
   "metadata": {},
   "outputs": [
    {
     "name": "stdout",
     "output_type": "stream",
     "text": [
      "514    12/29/2010\n",
      "Name: signing_date, dtype: object\n",
      "514    12/29/2009\n",
      "Name: signing_date, dtype: object\n"
     ]
    }
   ],
   "source": [
    "#manual edit for error in Obama bulk csv\n",
    "print(df_all['signing_date'].loc[[514]])\n",
    "df_all['signing_date'].loc[[514]] = df_all['signing_date'].loc[[514]].replace('12/29/2010', '12/29/2009', regex=False)\n",
    "print(df_all['signing_date'].loc[[514]])"
   ]
  },
  {
   "cell_type": "code",
   "execution_count": 30,
   "id": "6c2d8d13-ab56-41f1-8aba-a24c80baf227",
   "metadata": {
    "tags": []
   },
   "outputs": [
    {
     "name": "stdout",
     "output_type": "stream",
     "text": [
      "(6547, 7)\n"
     ]
    }
   ],
   "source": [
    "#convert dates to datetime for calculations\n",
    "\n",
    "df_all['signing_date'] = pd.to_datetime(df_all['signing_date'])\n",
    "df_all['president'] = 'name'\n",
    "df_all['days'] = 0\n",
    "df_all['count'] = 0\n",
    "print(df_all.shape)"
   ]
  },
  {
   "cell_type": "code",
   "execution_count": 31,
   "id": "ced60a1e-cc29-4783-b5a8-55278a1715d9",
   "metadata": {
    "tags": []
   },
   "outputs": [
    {
     "name": "stdout",
     "output_type": "stream",
     "text": [
      "2021-09-19\n",
      "                    name inaug_date\n",
      "0   Franklin D Roosevelt 1933-03-04\n",
      "1         Harry S Truman 1945-04-12\n",
      "2    Dwight D Eisenhower 1953-01-20\n",
      "3         John F Kennedy 1961-01-20\n",
      "4       Lyndon B Johnson 1963-11-22\n",
      "5          Richard Nixon 1969-01-20\n",
      "6            Gerald Ford 1974-04-09\n",
      "7           Jimmy Carter 1977-01-20\n",
      "8          Ronald Reagan 1981-01-20\n",
      "9        George H W Bush 1989-01-20\n",
      "10     William J Clinton 1993-01-20\n",
      "11         George W Bush 2001-01-20\n",
      "12          Barack Obama 2009-01-20\n",
      "13          Donald Trump 2017-01-20\n",
      "14        Joseph R Biden 2021-01-20\n",
      "15                 Today 2021-09-19\n"
     ]
    }
   ],
   "source": [
    "#next step - add column with president name\n",
    "df_inaug = pd.read_csv('inaug_dates.csv')\n",
    "today = datetime.date.today()\n",
    "print(today)\n",
    "df_inaug.loc[len(df_inaug.index)] = ['Today', today]\n",
    "\n",
    "df_inaug['inaug_date'] = pd.to_datetime(df_inaug['inaug_date'])\n",
    "print(df_inaug)"
   ]
  },
  {
   "cell_type": "code",
   "execution_count": 32,
   "id": "accc465a-c0d7-4215-bcfe-a3a2497a73b3",
   "metadata": {
    "tags": []
   },
   "outputs": [
    {
     "name": "stdout",
     "output_type": "stream",
     "text": [
      "Franklin D Roosevelt 1933-03-04 00:00:00 1945-04-12 00:00:00\n",
      "(2025, 7)\n",
      "Harry S Truman 1945-04-12 00:00:00 1953-01-20 00:00:00\n",
      "(908, 7)\n",
      "Dwight D Eisenhower 1953-01-20 00:00:00 1961-01-20 00:00:00\n",
      "(484, 7)\n",
      "John F Kennedy 1961-01-20 00:00:00 1963-11-22 00:00:00\n",
      "(214, 7)\n",
      "Lyndon B Johnson 1963-11-22 00:00:00 1969-01-20 00:00:00\n",
      "(325, 7)\n",
      "Richard Nixon 1969-01-20 00:00:00 1974-04-09 00:00:00\n",
      "(325, 7)\n",
      "Gerald Ford 1974-04-09 00:00:00 1977-01-20 00:00:00\n",
      "(190, 7)\n",
      "Jimmy Carter 1977-01-20 00:00:00 1981-01-20 00:00:00\n",
      "(320, 7)\n",
      "Ronald Reagan 1981-01-20 00:00:00 1989-01-20 00:00:00\n",
      "(381, 7)\n",
      "George H W Bush 1989-01-20 00:00:00 1993-01-20 00:00:00\n",
      "(166, 7)\n",
      "William J Clinton 1993-01-20 00:00:00 2001-01-20 00:00:00\n",
      "(366, 7)\n",
      "George W Bush 2001-01-20 00:00:00 2009-01-20 00:00:00\n",
      "(291, 7)\n",
      "Barack Obama 2009-01-20 00:00:00 2017-01-20 00:00:00\n",
      "(276, 7)\n",
      "Donald Trump 2017-01-20 00:00:00 2021-01-20 00:00:00\n",
      "(219, 7)\n",
      "Joseph R Biden 2021-01-20 00:00:00 2021-09-19 00:00:00\n",
      "(57, 7)\n",
      "      executive_order_number  \\\n",
      "6546                  7532.0   \n",
      "6545                  7533.0   \n",
      "6544                  7534.0   \n",
      "6543                  7535.0   \n",
      "6542                  7536.0   \n",
      "\n",
      "                                                  title signing_date  \\\n",
      "6546  Establishing Shinnecock Migratory Bird Refuge,...   1937-01-08   \n",
      "6545  Exemption of James E. Tibbitts From Compulsory...   1937-01-11   \n",
      "6544  Excluding Land From Sitgreaves National Forest...   1937-01-12   \n",
      "6543  Partial Revocation of   6110 of May 2, 1933, W...   1937-01-12   \n",
      "6542  Partial Revocation of   5687 of August 18, 193...   1937-01-12   \n",
      "\n",
      "                                      disposition_notes             president  \\\n",
      "6546  Federal Register page and date: 2 FR 63, Janua...  Franklin D Roosevelt   \n",
      "6545  Note: This Executive order was not received fo...  Franklin D Roosevelt   \n",
      "6544  Federal Register page and date: 2 FR 87, Janua...  Franklin D Roosevelt   \n",
      "6543  Federal Register page and date: 2 FR 88, Janua...  Franklin D Roosevelt   \n",
      "6542  Federal Register page and date: 2 FR 88, Janua...  Franklin D Roosevelt   \n",
      "\n",
      "          days   count  \n",
      "6546 1406 days  1716.0  \n",
      "6545 1409 days  1717.0  \n",
      "6544 1410 days  1718.0  \n",
      "6543 1410 days  1719.0  \n",
      "6542 1410 days  1720.0  \n"
     ]
    }
   ],
   "source": [
    "#subset df by dates\n",
    "for i in range(df_inaug.shape[0] - 1):\n",
    "    name = df_inaug.at[i, 'name']\n",
    "    start_date = df_inaug.at[i, 'inaug_date']\n",
    "    end_date = df_inaug.at[i+1, 'inaug_date']\n",
    "\n",
    "    df_subset = df_all.loc[(df_all['signing_date'] >= start_date) & (df_all['signing_date'] < end_date)]\n",
    "    df_subset['president'] = df_inaug.at[i, 'name']\n",
    "    df_subset['days'] = df_subset['signing_date'] - start_date\n",
    "    #can't straight subtract due to -A orders\n",
    "    #can't go by index due to misordering\n",
    "    df_subset['count'] = [*range(1, df_subset.shape[0] + 1)]\n",
    "    #have to update for FDR, data starts partway through his presidency\n",
    "    if i == 0:\n",
    "        df_subset['count'] = df_subset['count'] + 1715\n",
    "    df_all.update(df_subset)\n",
    "    print(name, start_date, end_date)\n",
    "    print(df_subset.shape)\n",
    "    \n",
    "print(df_all.head())"
   ]
  },
  {
   "cell_type": "code",
   "execution_count": 33,
   "id": "f8b6d3c6-6a92-4215-bc5a-7c01621ba699",
   "metadata": {},
   "outputs": [
    {
     "name": "stdout",
     "output_type": "stream",
     "text": [
      "      executive_order_number  \\\n",
      "6546                  7532.0   \n",
      "6545                  7533.0   \n",
      "6544                  7534.0   \n",
      "6543                  7535.0   \n",
      "6542                  7536.0   \n",
      "\n",
      "                                                  title signing_date  \\\n",
      "6546  Establishing Shinnecock Migratory Bird Refuge,...   1937-01-08   \n",
      "6545  Exemption of James E. Tibbitts From Compulsory...   1937-01-11   \n",
      "6544  Excluding Land From Sitgreaves National Forest...   1937-01-12   \n",
      "6543  Partial Revocation of   6110 of May 2, 1933, W...   1937-01-12   \n",
      "6542  Partial Revocation of   5687 of August 18, 193...   1937-01-12   \n",
      "\n",
      "                                      disposition_notes             president  \\\n",
      "6546  Federal Register page and date: 2 FR 63, Janua...  Franklin D Roosevelt   \n",
      "6545  Note: This Executive order was not received fo...  Franklin D Roosevelt   \n",
      "6544  Federal Register page and date: 2 FR 87, Janua...  Franklin D Roosevelt   \n",
      "6543  Federal Register page and date: 2 FR 88, Janua...  Franklin D Roosevelt   \n",
      "6542  Federal Register page and date: 2 FR 88, Janua...  Franklin D Roosevelt   \n",
      "\n",
      "      days   count  \n",
      "6546  1406  1716.0  \n",
      "6545  1409  1717.0  \n",
      "6544  1410  1718.0  \n",
      "6543  1410  1719.0  \n",
      "6542  1410  1720.0  \n"
     ]
    }
   ],
   "source": [
    "df_all['days'] = df_all['days'].dt.days\n",
    "print(df_all.head())"
   ]
  },
  {
   "cell_type": "code",
   "execution_count": 34,
   "id": "cc972fc0-f12a-4bbf-9ab2-f66ab3155588",
   "metadata": {},
   "outputs": [],
   "source": [
    "df_all.to_csv('all_data.csv', index=False)"
   ]
  }
 ],
 "metadata": {
  "kernelspec": {
   "display_name": "Python 3",
   "language": "python",
   "name": "python3"
  },
  "language_info": {
   "codemirror_mode": {
    "name": "ipython",
    "version": 3
   },
   "file_extension": ".py",
   "mimetype": "text/x-python",
   "name": "python",
   "nbconvert_exporter": "python",
   "pygments_lexer": "ipython3",
   "version": "3.9.4"
  }
 },
 "nbformat": 4,
 "nbformat_minor": 5
}
