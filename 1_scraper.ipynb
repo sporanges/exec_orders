{
 "cells": [
  {
   "cell_type": "code",
   "execution_count": 7,
   "id": "d2ff54f2",
   "metadata": {},
   "outputs": [],
   "source": [
    "from bs4 import BeautifulSoup\n",
    "import requests\n",
    "import pandas as pd\n",
    "import numpy as np"
   ]
  },
  {
   "cell_type": "code",
   "execution_count": 8,
   "id": "13f6b2d2",
   "metadata": {},
   "outputs": [
    {
     "name": "stdout",
     "output_type": "stream",
     "text": [
      "['1937', '1938', '1939', '1940', '1941', '1942', '1943', '1944', '1946', '1947', '1948', '1949', '1950', '1951', '1952', '1954', '1955', '1956', '1957', '1958', '1959', '1960', '1962', '1964', '1965', '1966', '1967', '1968', '1970', '1971', '1972', '1973', '1975', '1976', '1978', '1979', '1980', '1982', '1983', '1984', '1985', '1986', '1987', '1988', '1990', '1991', '1992', '1994', '1945-roosevelt', '1945-truman', '1953-truman', '1953-eisenhower', '1961-eisenhower', '1961-kennedy', '1963-kennedy', '1963-johnson', '1969-johnson', '1969-nixon', '1974-nixon', '1974-ford', '1977-ford', '1977-carter', '1981-carter', '1981-reagan', '1989-reagan', '1989-bush', '1993-bush', '1993-clinton']\n"
     ]
    }
   ],
   "source": [
    "# step 1: get the data\n",
    "\n",
    "# after 1994, orders are available as a bulk csv or json download at\n",
    "# https://www.federalregister.gov/documents/search.csv?conditions%5Bcorrection%5D=0&conditions%5Bpresident%5D=&conditions%5Bpresidential_document_type%5D=executive_order&conditions%5Bsigning_date%5D%5Byear%5D=&conditions%5Btype%5D%5B%5D=PRESDOCU&fields%5B%5D=citation&fields%5B%5D=document_number&fields%5B%5D=end_page&fields%5B%5D=html_url&fields%5B%5D=pdf_url&fields%5B%5D=type&fields%5B%5D=subtype&fields%5B%5D=publication_date&fields%5B%5D=signing_date&fields%5B%5D=start_page&fields%5B%5D=title&fields%5B%5D=disposition_notes&fields%5B%5D=executive_order_number&order=executive_order&per_page=1000\n",
    "# so this will only scrape 1937 (when the register starts) through 1994\n",
    "\n",
    "# orders are on a list of pages, denoted by year (or year-president for inauguration years)\n",
    "#base_url = 'https://www.archives.gov/federal-register/executive-orders/'\n",
    "# likely not the most elegant way of doing it, but it gets the job done\n",
    "years = [*range(1937, 1995)]\n",
    "inaug_years = [1945, 1953, 1961, 1963, 1969, 1974, 1977, 1981, 1989, 1993]\n",
    "presidents = ['roosevelt', 'truman', 'eisenhower', 'kennedy', 'johnson',\n",
    "             'nixon', 'ford', 'carter', 'reagan', 'bush', 'clinton']\n",
    "year_pres = []\n",
    "i=0\n",
    "# create the suffixes for inauguration years\n",
    "for year in inaug_years:\n",
    "    year_pres.append(str(year)+'-'+presidents[i])\n",
    "    i += 1\n",
    "    year_pres.append(str(year)+'-'+presidents[i])\n",
    "\n",
    "years = list(set(years) - set(inaug_years))\n",
    "years = [str(y) for y in years]\n",
    "years = years + year_pres\n",
    "print(years)"
   ]
  },
  {
   "cell_type": "code",
   "execution_count": 9,
   "id": "91e902cd",
   "metadata": {},
   "outputs": [],
   "source": [
    "def scraper(url):\n",
    "    r = requests.get(url)\n",
    "    html_doc = r.text\n",
    "    soup = BeautifulSoup(html_doc)\n",
    "    mainblock = soup.div.find(id = 'block-system-main')\n",
    "    subs = mainblock.find_all(['p', 'ul'])\n",
    "\n",
    "    this_list = [sub.text for sub in subs]\n",
    "\n",
    "    df = pd.DataFrame(this_list, columns = ['data'])\n",
    "    return(df)"
   ]
  },
  {
   "cell_type": "code",
   "execution_count": 12,
   "id": "173b5b9b-79af-4314-bdb9-905ef5727692",
   "metadata": {
    "tags": []
   },
   "outputs": [
    {
     "name": "stdout",
     "output_type": "stream",
     "text": [
      "1937\n",
      "1938\n",
      "1939\n",
      "1940\n",
      "1941\n",
      "1942\n",
      "1943\n",
      "1944\n",
      "1946\n",
      "1947\n",
      "1948\n",
      "1949\n",
      "1950\n",
      "1951\n",
      "1952\n",
      "1954\n",
      "1955\n",
      "1956\n",
      "1957\n",
      "1958\n",
      "1959\n",
      "1960\n",
      "1962\n",
      "1964\n",
      "1965\n",
      "1966\n",
      "1967\n",
      "1968\n",
      "1970\n",
      "1971\n",
      "1972\n",
      "1973\n",
      "1975\n",
      "1976\n",
      "1978\n",
      "1979\n",
      "1980\n",
      "1982\n",
      "1983\n",
      "1984\n",
      "1985\n",
      "1986\n",
      "1987\n",
      "1988\n",
      "1990\n",
      "1991\n",
      "1992\n",
      "1994\n",
      "1945-roosevelt\n",
      "1945-truman\n",
      "1953-truman\n",
      "1953-eisenhower\n",
      "1961-eisenhower\n",
      "1961-kennedy\n",
      "1963-kennedy\n",
      "1963-johnson\n",
      "1969-johnson\n",
      "1969-nixon\n",
      "1974-nixon\n",
      "1974-ford\n",
      "1977-ford\n",
      "1977-carter\n",
      "1981-carter\n",
      "1981-reagan\n",
      "1989-reagan\n",
      "1989-bush\n",
      "1993-bush\n",
      "1993-clinton\n"
     ]
    }
   ],
   "source": [
    "base_url = 'https://www.archives.gov/federal-register/executive-orders/'\n",
    "df_all = pd.DataFrame(columns = ['data'])\n",
    "for year in years:\n",
    "    url = base_url + year\n",
    "    df_all = df_all.append(scraper(url), ignore_index = True)\n",
    "    print(year)"
   ]
  },
  {
   "cell_type": "code",
   "execution_count": 13,
   "id": "43adbce3-d3b7-47b7-9b77-50f114b79349",
   "metadata": {},
   "outputs": [
    {
     "name": "stdout",
     "output_type": "stream",
     "text": [
      "(12867, 1)\n",
      "(10900, 1)\n"
     ]
    }
   ],
   "source": [
    "print(df_all.shape)\n",
    "\n",
    "#strip leading and trailing whitespaces for easier processing\n",
    "df_all['data'] = df_all['data'].str.strip()\n",
    "\n",
    "#replace empty strings and recurring non-data with NaN to drop\n",
    "df_all = df_all.replace(r'^\\s*$', np.NaN, regex=True)\n",
    "df_all = df_all.replace('Top of Page', np.NaN, regex=False)\n",
    "df_all.dropna(axis = 0, how = 'all', inplace = True)\n",
    "\n",
    "print(df_all.shape)\n",
    "df_all.to_csv('scraped_data.csv', index = False)"
   ]
  }
 ],
 "metadata": {
  "kernelspec": {
   "display_name": "Python 3",
   "language": "python",
   "name": "python3"
  },
  "language_info": {
   "codemirror_mode": {
    "name": "ipython",
    "version": 3
   },
   "file_extension": ".py",
   "mimetype": "text/x-python",
   "name": "python",
   "nbconvert_exporter": "python",
   "pygments_lexer": "ipython3",
   "version": "3.9.4"
  }
 },
 "nbformat": 4,
 "nbformat_minor": 5
}
