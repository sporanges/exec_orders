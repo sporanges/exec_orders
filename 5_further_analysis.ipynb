{
 "cells": [
  {
   "cell_type": "code",
   "execution_count": 5,
   "id": "2bf69fea-c9c9-4602-886e-235e9824d9de",
   "metadata": {},
   "outputs": [
    {
     "name": "stdout",
     "output_type": "stream",
     "text": [
      "(6547, 7)\n",
      "(6244, 7)\n"
     ]
    }
   ],
   "source": [
    "#step 5: more analysis\n",
    "\n",
    "#see which orders revoke others (who revokes who? who revokes most per orders signed/per year? who was most revoked per signed/total?)\n",
    "#Revoke, Amend, Supercede\n",
    "\n",
    "import pandas as pd\n",
    "df = pd.read_csv('all_data.csv')\n",
    "print(df.shape)\n",
    "df = df.dropna(subset=['disposition_notes'])\n",
    "print(df.shape)"
   ]
  },
  {
   "cell_type": "code",
   "execution_count": 6,
   "id": "6760393d-ee60-4d61-b265-51d31a6bc7a3",
   "metadata": {},
   "outputs": [
    {
     "name": "stdout",
     "output_type": "stream",
     "text": [
      "(2206, 7)\n"
     ]
    }
   ],
   "source": [
    "df_revoke = df[df['disposition_notes'].str.contains('Revoke')]\n",
    "print(df_revoke.shape)"
   ]
  },
  {
   "cell_type": "code",
   "execution_count": 10,
   "id": "8544202d-3479-460e-b2a4-e9001f7aaa9a",
   "metadata": {},
   "outputs": [
    {
     "name": "stdout",
     "output_type": "stream",
     "text": [
      "(724, 7)\n",
      "(1682, 7)\n"
     ]
    }
   ],
   "source": [
    "df_revokes = df[df['disposition_notes'].str.contains('Revokes')]\n",
    "print(df_revokes.shape)\n",
    "\n",
    "df_revoked = df[df['disposition_notes'].str.contains('Revoked')]\n",
    "print(df_revoked.shape)"
   ]
  },
  {
   "cell_type": "code",
   "execution_count": 9,
   "id": "25ba03e4-ad4c-408d-934c-978361fcfc84",
   "metadata": {},
   "outputs": [
    {
     "name": "stdout",
     "output_type": "stream",
     "text": [
      "(200, 7)\n"
     ]
    }
   ],
   "source": [
    "df_both = df[(df['disposition_notes'].str.contains('Revokes')) & (df['disposition_notes'].str.contains('Revoked'))]\n",
    "print(df_both.shape)"
   ]
  }
 ],
 "metadata": {
  "kernelspec": {
   "display_name": "Python 3",
   "language": "python",
   "name": "python3"
  },
  "language_info": {
   "codemirror_mode": {
    "name": "ipython",
    "version": 3
   },
   "file_extension": ".py",
   "mimetype": "text/x-python",
   "name": "python",
   "nbconvert_exporter": "python",
   "pygments_lexer": "ipython3",
   "version": "3.9.4"
  }
 },
 "nbformat": 4,
 "nbformat_minor": 5
}
