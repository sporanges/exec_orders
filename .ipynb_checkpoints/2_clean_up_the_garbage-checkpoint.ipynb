{
 "cells": [
  {
   "cell_type": "code",
   "execution_count": null,
   "id": "5543df3a",
   "metadata": {},
   "outputs": [],
   "source": [
    "#step 2: clean the garbage data because even though it's regarding the highest office in the country,\n",
    "#it's still a govennment website"
   ]
  }
 ],
 "metadata": {
  "kernelspec": {
   "display_name": "Python 3",
   "language": "python",
   "name": "python3"
  },
  "language_info": {
   "codemirror_mode": {
    "name": "ipython",
    "version": 3
   },
   "file_extension": ".py",
   "mimetype": "text/x-python",
   "name": "python",
   "nbconvert_exporter": "python",
   "pygments_lexer": "ipython3",
   "version": "3.9.4"
  }
 },
 "nbformat": 4,
 "nbformat_minor": 5
}
