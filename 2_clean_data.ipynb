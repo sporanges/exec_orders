{
 "cells": [
  {
   "cell_type": "code",
   "execution_count": 13,
   "id": "5543df3a",
   "metadata": {
    "tags": []
   },
   "outputs": [
    {
     "name": "stdout",
     "output_type": "stream",
     "text": [
      "(10898, 1)\n",
      "                                                data\n",
      "0  Executive Order 7532 \\nEstablishing Shinnecock...\n",
      "1  Signed: January 8, 1937\\nFederal Register page...\n",
      "2  Executive Order   7533 \\nExemption of James E....\n",
      "3  Signed: January 11, 1937 \\nNote: This Executiv...\n",
      "4  Executive Order   7534 \\nExcluding Land From S...\n"
     ]
    }
   ],
   "source": [
    "#step 2: clean the data because even though it's regarding the highest office in the country,\n",
    "#it's still a govennment website\n",
    "\n",
    "import pandas as pd\n",
    "import numpy as np\n",
    "pd.options.mode.chained_assignment = None\n",
    "\n",
    "df_old = pd.read_csv('scraped_data.csv')\n",
    "print(df_old.shape)\n",
    "print(df_old.head())"
   ]
  },
  {
   "cell_type": "code",
   "execution_count": 14,
   "id": "8c28efad-bb01-4a80-bd88-99b77d8b3188",
   "metadata": {},
   "outputs": [
    {
     "name": "stdout",
     "output_type": "stream",
     "text": [
      "(6, 1)\n",
      "                                                    data\n",
      "9582   Decontrol of crude oil and refined petroleum p...\n",
      "9808          President's Commission on Strategic Forces\n",
      "10004                        Regulatory planning process\n",
      "10094  Prohibiting trade and certain transactions inv...\n",
      "10254  Delegating authority to implement assistance t...\n",
      "10396  Visit the Ronald Reagan Presidential Library a...\n"
     ]
    }
   ],
   "source": [
    "#This is the ugly part where I have to manually edit some parts of the data\n",
    "#pls forgive me\n",
    "\n",
    "#just to see the rows of data that need manual edits\n",
    "df_bads = df_old[~df_old['data'].str.startswith('Executive')]\n",
    "df_bads = df_bads[~df_bads['data'].str.startswith('Signed')]\n",
    "print(df_bads.shape)\n",
    "print(df_bads)"
   ]
  },
  {
   "cell_type": "code",
   "execution_count": 15,
   "id": "60037bc7-50cc-48ef-8b42-967fea2cbf3c",
   "metadata": {},
   "outputs": [],
   "source": [
    "#lil ugly manual adjustments to insert missing order numbers\n",
    "#row 9582 - order number 12287 - 1981\n",
    "df_old.loc[[9582]] = df_old.loc[[9582]].replace('Decontrol of crude oil and refined petroleum products', 'Executive Order 12287 \\nDecontrol of crude oil and refined petroleum products', regex=False)\n",
    "\n",
    "#row 9808 - order number 12400 - 1983\n",
    "df_old.loc[[9808]] = df_old.loc[[9808]].replace('President\\'s Commission on Strategic Forces', 'Executive Order 12400 \\nPresident\\'s Commission on Strategic Forces', regex=False)\n",
    "\n",
    "#row 10004 - order number 12498 - 1985\n",
    "df_old.loc[[10004]] = df_old.loc[[10004]].replace('Regulatory planning process', 'Executive Order 12498 \\nRegulatory planning process', regex=False)\n",
    "\n",
    "#row 10094 - order number 12543 - 1986\n",
    "df_old.loc[[10094]] = df_old.loc[[10094]].replace('Prohibiting trade and certain transactions involving Libya', 'Executive Order 12543 \\nProhibiting trade and certain transactions involving Libya', regex=False)\n",
    "\n",
    "#row 10254 - order number 12623 - 1988\n",
    "df_old.loc[[10254]] = df_old.loc[[10254]].replace('Delegating authority to implement assistance to the Nicaraguan Democratic Resistance', 'Executive Order 12623 \\nDelegating authority to implement assistance to the Nicaraguan Democratic Resistance', regex=False)\n",
    "\n",
    "#row 10396 - order number 12663 - 1989\n",
    "df_old.loc[[10396]] = df_old.loc[[10396]].replace('Visit the Ronald Reagan Presidential Library and Museum', 'Executive Order 12663 \\nAdjustments of certain rates of pay and allowances', regex=False)\n",
    "\n",
    "#fixing formatting/typos of a few signing dates\n",
    "#row 2145 - signing date and fed register page and date are mashed together\n",
    "df_old.loc[[2145]] = df_old.loc[[2145]].replace('Signed: 5 FR 4558, November 18, 194November 20, 1940', 'Signed: November 18, 1940 \\nFederal Register page and date: 5 FR 4558, November 20, 1940', regex=True)\n",
    "\n",
    "#row 1533 - insert '\\n' after signing date\n",
    "df_old.loc[[1533]] = df_old.loc[[1533]].replace('Signed: November 30, 1939 ', 'Signed: November 30, 1939 \\n', regex=True)\n",
    "\n",
    "#row 5201 - change year from 950 to 1950\n",
    "df_old.loc[[5201]] = df_old.loc[[5201]].replace('Signed: January 31, 950', 'Signed: January 31, 1950', regex=True)\n",
    "\n",
    "#row 6243 - insert space between comma and year\n",
    "df_old.loc[[6243]] = df_old.loc[[6243]].replace('Signed: June 29,1955', 'Signed: June 29, 1955', regex=True)\n",
    "\n",
    "#row 6367 - correct year from 19656 to 1956\n",
    "df_old.loc[[6367]] = df_old.loc[[6367]].replace('Signed: October 22, 19656', 'Signed: October 22, 1956', regex=True)\n",
    "\n",
    "#row 4871 - correct year from 1945 to 1948\n",
    "df_old.loc[[4871]] = df_old.loc[[4871]].replace('Signed: March 22, 1945', 'Signed: March 22, 1948', regex=True)\n",
    "\n",
    "#row 4563 - correct year from 1948 to 1946\n",
    "df_old.loc[[4563]] = df_old.loc[[4563]].replace('Signed: October 5, 1948', 'Signed: October 5, 1946', regex=True)\n",
    "\n",
    "#row 2893 - correct year from 1946 to 1941\n",
    "df_old.loc[[2893]] = df_old.loc[[2893]].replace('Signed: December 11, 1946', 'Signed: December 11, 1941', regex=True)\n",
    "\n",
    "#row 5551 - correct year from 1961 to 1951\n",
    "df_old.loc[[5551]] = df_old.loc[[5551]].replace('Signed: July 31, 1961', 'Signed: July 31, 1951', regex=True)\n",
    "\n",
    "#row 5551 - correct date from July 6 to July 26\n",
    "df_old.loc[[2619]] = df_old.loc[[2619]].replace('Signed: July 6, 1941', 'Signed: July 26, 1941', regex=True)\n",
    "\n",
    "#row 5551 - correct date from August 1 to August 11\n",
    "df_old.loc[[5301]] = df_old.loc[[5301]].replace('Signed: August 1, 1950', 'Signed: August 11, 1950', regex=True)"
   ]
  },
  {
   "cell_type": "code",
   "execution_count": 12,
   "id": "b39d8910-f724-4ed4-b949-b53118cb4c41",
   "metadata": {},
   "outputs": [
    {
     "name": "stdout",
     "output_type": "stream",
     "text": [
      "                                                   data\n",
      "5301  Signed: August 1, 1950\\nFederal Register page ...\n"
     ]
    }
   ],
   "source": [
    "print(df_old.loc[[5301]])"
   ]
  },
  {
   "cell_type": "code",
   "execution_count": 16,
   "id": "682005a7-0a60-49b0-8d11-2984fe6d8578",
   "metadata": {},
   "outputs": [
    {
     "name": "stdout",
     "output_type": "stream",
     "text": [
      "                                                   data\n",
      "9582  Executive Order 12287 \\nDecontrol of crude oil...\n",
      "                                                   data\n",
      "9808  Executive Order 12400 \\nPresident's Commission...\n",
      "                                                    data\n",
      "10004  Executive Order 12498 \\nRegulatory planning pr...\n",
      "                                                    data\n",
      "10094  Executive Order 12543 \\nProhibiting trade and ...\n",
      "                                                    data\n",
      "10254  Executive Order 12623 \\nDelegating authority t...\n",
      "                                                    data\n",
      "10396  Executive Order 12663 \\nAdjustments of certain...\n",
      "                                                   data\n",
      "2145  Signed: November 18, 1940 \\nFederal Register p...\n",
      "                                                   data\n",
      "1533  Signed: November 30, 1939 \\nFederal Register p...\n",
      "                                                   data\n",
      "5201  Signed: January 31, 1950\\nFederal Register pag...\n",
      "                                                   data\n",
      "6243  Signed: June 29, 1955\\nFederal Register page a...\n",
      "                                                   data\n",
      "6367  Signed: October 22, 1956\\nFederal Register pag...\n",
      "                                                   data\n",
      "4871  Signed: March 22, 1948\\nFederal Register page ...\n",
      "                                                   data\n",
      "4563  Signed: October 5, 1946\\nFederal Register page...\n",
      "                                                   data\n",
      "2893  Signed: December 11, 1941\\nNote: This Executiv...\n",
      "                                                   data\n",
      "5551  Signed: July 31, 1951\\nFederal Register page a...\n",
      "                                                   data\n",
      "2619  Signed: July 26, 1941 \\nFederal Register page ...\n",
      "                                                   data\n",
      "5301  Signed: August 11, 1950\\nFederal Register page...\n"
     ]
    }
   ],
   "source": [
    "#to view and verify they updated properly\n",
    "print(df_old.loc[[9582]])\n",
    "print(df_old.loc[[9808]])\n",
    "print(df_old.loc[[10004]])\n",
    "print(df_old.loc[[10094]])\n",
    "print(df_old.loc[[10254]])\n",
    "print(df_old.loc[[10396]])\n",
    "print(df_old.loc[[2145]])\n",
    "print(df_old.loc[[1533]])\n",
    "print(df_old.loc[[5201]])\n",
    "print(df_old.loc[[6243]])\n",
    "print(df_old.loc[[6367]])\n",
    "print(df_old.loc[[4871]])\n",
    "print(df_old.loc[[4563]])\n",
    "print(df_old.loc[[2893]])\n",
    "print(df_old.loc[[5551]])\n",
    "print(df_old.loc[[2619]])\n",
    "print(df_old.loc[[5301]])"
   ]
  },
  {
   "cell_type": "code",
   "execution_count": 17,
   "id": "28ff01cd-1867-4940-80f7-6402d79ca0e8",
   "metadata": {},
   "outputs": [
    {
     "name": "stdout",
     "output_type": "stream",
     "text": [
      "(5449, 1)\n",
      "(5449, 1)\n"
     ]
    }
   ],
   "source": [
    "#split the dataframe and make sure they're of equal length\n",
    "df_nums = df_old[df_old['data'].str.startswith('Executive')]\n",
    "df_dates = df_old[df_old['data'].str.startswith('Signed')]\n",
    "print(df_nums.shape)\n",
    "print(df_dates.shape)"
   ]
  },
  {
   "cell_type": "code",
   "execution_count": 18,
   "id": "f5457d8e-03ca-48c2-a5a0-13430a58d84b",
   "metadata": {},
   "outputs": [
    {
     "name": "stdout",
     "output_type": "stream",
     "text": [
      "                                                data executive_order_number  \\\n",
      "0  7532 \\nEstablishing Shinnecock Migratory Bird ...                  7532    \n",
      "2  7533 \\nExemption of James E. Tibbitts From Com...                  7533    \n",
      "4  7534 \\nExcluding Land From Sitgreaves National...                  7534    \n",
      "6  7535 \\nPartial Revocation of   6110 of May 2, ...                  7535    \n",
      "8  7536 \\nPartial Revocation of   5687 of August ...                  7536    \n",
      "\n",
      "                                               title  \n",
      "0  Establishing Shinnecock Migratory Bird Refuge,...  \n",
      "2  Exemption of James E. Tibbitts From Compulsory...  \n",
      "4  Excluding Land From Sitgreaves National Forest...  \n",
      "6  Partial Revocation of   6110 of May 2, 1933, W...  \n",
      "8  Partial Revocation of   5687 of August 18, 193...  \n",
      "                                                data       signing_date  \\\n",
      "1  January 8, 1937\\nFederal Register page and dat...    January 8, 1937   \n",
      "3  January 11, 1937 \\nNote: This Executive order ...  January 11, 1937    \n",
      "5  January 12, 1937\\nFederal Register page and da...   January 12, 1937   \n",
      "7  January 12, 1937\\nFederal Register page and da...   January 12, 1937   \n",
      "9  January 12, 1937\\nFederal Register page and da...   January 12, 1937   \n",
      "\n",
      "                                   disposition_notes  \n",
      "1  Federal Register page and date: 2 FR 63, Janua...  \n",
      "3  Note: This Executive order was not received fo...  \n",
      "5  Federal Register page and date: 2 FR 87, Janua...  \n",
      "7  Federal Register page and date: 2 FR 88, Janua...  \n",
      "9  Federal Register page and date: 2 FR 88, Janua...  \n"
     ]
    }
   ],
   "source": [
    "#trim unecessary strings and make for easier processing\n",
    "#because some rows have '\\n' between 'Executive Order' and the order number\n",
    "df_nums['data'] = df_nums['data'].str.replace('Executive Order', '', regex=False)\n",
    "df_nums['data'] = df_nums['data'].str.replace('No.', '', regex=False)\n",
    "df_nums['data'] = df_nums['data'].str.strip()\n",
    "#split the order number and title\n",
    "df_nums[['executive_order_number', 'title']] = df_nums['data'].str.split('\\n', n=1, expand=True)\n",
    "\n",
    "print(df_nums.head())\n",
    "\n",
    "df_dates['data'] = df_dates['data'].str.replace('Signed:', '', regex=False)\n",
    "df_dates['data'] = df_dates['data'].str.strip()\n",
    "#split signing date and disposition notes\n",
    "df_dates[['signing_date', 'disposition_notes']] = df_dates['data'].str.split('\\n', n=1, expand=True)\n",
    "\n",
    "print(df_dates.head())"
   ]
  },
  {
   "cell_type": "code",
   "execution_count": 19,
   "id": "5531a064-3d8b-4dee-b468-14a72d78d0b5",
   "metadata": {},
   "outputs": [
    {
     "name": "stdout",
     "output_type": "stream",
     "text": [
      "  executive_order_number                                              title  \\\n",
      "0                   7532  Establishing Shinnecock Migratory Bird Refuge,...   \n",
      "1                   7533  Exemption of James E. Tibbitts From Compulsory...   \n",
      "2                   7534  Excluding Land From Sitgreaves National Forest...   \n",
      "3                   7535  Partial Revocation of   6110 of May 2, 1933, W...   \n",
      "4                   7536  Partial Revocation of   5687 of August 18, 193...   \n",
      "\n",
      "       signing_date                                  disposition_notes  \n",
      "0   January 8, 1937  Federal Register page and date: 2 FR 63, Janua...  \n",
      "1  January 11, 1937  Note: This Executive order was not received fo...  \n",
      "2  January 12, 1937  Federal Register page and date: 2 FR 87, Janua...  \n",
      "3  January 12, 1937  Federal Register page and date: 2 FR 88, Janua...  \n",
      "4  January 12, 1937  Federal Register page and date: 2 FR 88, Janua...  \n"
     ]
    }
   ],
   "source": [
    "df_nums['count'] = [*range(df_nums.shape[0])]\n",
    "df_dates['count'] = [*range(df_dates.shape[0])]\n",
    "df_all = df_nums[['executive_order_number', 'title', 'count']].merge(df_dates[['signing_date', 'disposition_notes', 'count']], on='count')\n",
    "df_all = df_all.drop(['count'], axis = 1)\n",
    "\n",
    "for col in list(df_all):\n",
    "    df_all[col] = df_all[col].str.strip()\n",
    "\n",
    "print(df_all.head())"
   ]
  },
  {
   "cell_type": "code",
   "execution_count": 20,
   "id": "02a2de77-ee7a-4588-8f62-a5a74d9869a7",
   "metadata": {},
   "outputs": [],
   "source": [
    "df_all['executive_order_number'] = df_all['executive_order_number'].str.replace('-A', '.2', regex = False)\n",
    "df_all['executive_order_number'] = df_all['executive_order_number'].str.replace('A', '.5', regex = False)\n",
    "df_all['executive_order_number'] = df_all['executive_order_number'].str.replace('-B', '.5', regex = False)\n",
    "df_all['executive_order_number'] = df_all['executive_order_number'].str.replace('-C', '.7', regex = False)\n",
    "df_all['executive_order_number'] = df_all['executive_order_number'].astype(float)\n",
    "df_all.sort_values(by='executive_order_number', ascending=False, inplace = True)"
   ]
  },
  {
   "cell_type": "code",
   "execution_count": 21,
   "id": "6ce90479-12a5-4656-9159-a92a982af55e",
   "metadata": {},
   "outputs": [],
   "source": [
    "df_all.to_csv('cleaned_data.csv', index=False)"
   ]
  }
 ],
 "metadata": {
  "kernelspec": {
   "display_name": "Python 3",
   "language": "python",
   "name": "python3"
  },
  "language_info": {
   "codemirror_mode": {
    "name": "ipython",
    "version": 3
   },
   "file_extension": ".py",
   "mimetype": "text/x-python",
   "name": "python",
   "nbconvert_exporter": "python",
   "pygments_lexer": "ipython3",
   "version": "3.9.4"
  }
 },
 "nbformat": 4,
 "nbformat_minor": 5
}
