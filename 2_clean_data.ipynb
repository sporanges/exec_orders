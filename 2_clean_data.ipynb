{
 "cells": [
  {
   "cell_type": "code",
   "execution_count": 39,
   "id": "5543df3a",
   "metadata": {
    "tags": []
   },
   "outputs": [],
   "source": [
    "#step 2: clean the data because even though it's regarding the highest office in the country,\n",
    "#it's still a govennment website\n",
    "\n",
    "import pandas as pd\n",
    "import numpy as np"
   ]
  },
  {
   "cell_type": "code",
   "execution_count": 45,
   "id": "36a2d281-2d3b-47a7-9c18-6b0bc0f50928",
   "metadata": {},
   "outputs": [
    {
     "name": "stdout",
     "output_type": "stream",
     "text": [
      "(11190, 1)\n",
      "                                                data\n",
      "0  Executive Order 7532 \\nEstablishing Shinnecock...\n",
      "1  Signed: January 8, 1937\\nFederal Register page...\n",
      "2  Executive Order   7533 \\nExemption of James E....\n",
      "3  Signed: January 11, 1937 \\nNote: This Executiv...\n",
      "4  Executive Order   7534 \\nExcluding Land From S...\n"
     ]
    }
   ],
   "source": [
    "df_old = pd.read_csv('scraped_data.csv')\n",
    "print(df_old.shape)\n",
    "print(df_old.head())"
   ]
  },
  {
   "cell_type": "code",
   "execution_count": 49,
   "id": "f43811b8-bae8-4018-9e0b-1a8b8039c52e",
   "metadata": {},
   "outputs": [
    {
     "name": "stdout",
     "output_type": "stream",
     "text": [
      "                                                    data\n",
      "10859  Decontrol of crude oil and refined petroleum p...\n",
      "9125   Delegating authority to implement assistance t...\n",
      "6288   Executive Order \\n\\t10984\\n\\n\\tAmending the Se...\n",
      "6290   Executive Order \\n\\t10985\\n\\n\\tAmendment of Ex...\n",
      "6292   Executive Order \\n\\t10986\\n\\n\\tAmendment of Ex...\n"
     ]
    }
   ],
   "source": [
    "df_old['data'] = df_old['data'].str.strip()\n",
    "df_old.sort_values(by='data', inplace = True, ascending = True)\n",
    "print(df_old.head())"
   ]
  },
  {
   "cell_type": "code",
   "execution_count": 9,
   "id": "eb10ee4e-365f-497b-99d3-9c262b4a5b12",
   "metadata": {
    "collapsed": true,
    "jupyter": {
     "outputs_hidden": true,
     "source_hidden": true
    },
    "tags": []
   },
   "outputs": [
    {
     "name": "stdout",
     "output_type": "stream",
     "text": [
      "joseph_r_biden_jr\n",
      "donald_trump\n",
      "barack_obama\n",
      "george_w_bush\n",
      "william_j_clinton\n",
      "  executive_order_number                                              title  \\\n",
      "0                  14040  Declassification Reviews of Certain Documents ...   \n",
      "1                  14041  White House Initiative on Advancing Educationa...   \n",
      "2                  14039  Blocking Property With Respect to Certain Russ...   \n",
      "3                  14038  Blocking Property of Additional Persons Contri...   \n",
      "4                  14037  Strengthening American Leadership in Clean Car...   \n",
      "\n",
      "  signing_date             disposition_notes  \n",
      "0   09/03/2021                           NaN  \n",
      "1   09/03/2021                           NaN  \n",
      "2   08/20/2021                           NaN  \n",
      "3   08/09/2021  See: EO 13405, June 16, 2006  \n",
      "4   08/05/2021                           NaN  \n",
      "(1098, 4)\n"
     ]
    }
   ],
   "source": [
    "#import data from bulk CSV downloads\n",
    "\n",
    "file_prefix = 'documents_signed_by_'\n",
    "pres_names = ['joseph_r_biden_jr', 'donald_trump', 'barack_obama', 'george_w_bush', 'william_j_clinton']\n",
    "file_suffix = '_of_type_presidential_document_and_of_presidential_document_type_executive_order.csv'\n",
    "colnames = ['executive_order_number', 'title', 'signing_date', 'disposition_notes']\n",
    "\n",
    "df_all = pd.DataFrame(columns = colnames)\n",
    "for name in pres_names:\n",
    "    filename = file_prefix + name + file_suffix\n",
    "    df = pd.read_csv(filename)\n",
    "    df_subset = df[colnames]\n",
    "    print(name)\n",
    "    df_all = df_all.append(df_subset)\n",
    "print(df_all.head())\n",
    "print(df_all.shape)"
   ]
  }
 ],
 "metadata": {
  "kernelspec": {
   "display_name": "Python 3",
   "language": "python",
   "name": "python3"
  },
  "language_info": {
   "codemirror_mode": {
    "name": "ipython",
    "version": 3
   },
   "file_extension": ".py",
   "mimetype": "text/x-python",
   "name": "python",
   "nbconvert_exporter": "python",
   "pygments_lexer": "ipython3",
   "version": "3.9.4"
  }
 },
 "nbformat": 4,
 "nbformat_minor": 5
}
