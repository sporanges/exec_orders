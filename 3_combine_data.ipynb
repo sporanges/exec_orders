{
 "cells": [
  {
   "cell_type": "code",
   "execution_count": 18,
   "id": "bc6ffc9d-0c77-4a24-9b03-1b4182fa01c4",
   "metadata": {},
   "outputs": [],
   "source": [
    "import pandas as pd\n",
    "import datetime"
   ]
  },
  {
   "cell_type": "code",
   "execution_count": 21,
   "id": "6c2d8d13-ab56-41f1-8aba-a24c80baf227",
   "metadata": {},
   "outputs": [
    {
     "name": "stdout",
     "output_type": "stream",
     "text": [
      "(5449, 4)\n",
      "  executive_order_number                                              title  \\\n",
      "0                   7532  Establishing Shinnecock Migratory Bird Refuge,...   \n",
      "1                   7533  Exemption of James E. Tibbitts From Compulsory...   \n",
      "2                   7534  Excluding Land From Sitgreaves National Forest...   \n",
      "3                   7535  Partial Revocation of   6110 of May 2, 1933, W...   \n",
      "4                   7536  Partial Revocation of   5687 of August 18, 193...   \n",
      "\n",
      "       signing_date                                  disposition_notes  \n",
      "0   January 8, 1937  Federal Register page and date: 2 FR 63, Janua...  \n",
      "1  January 11, 1937  Note: This Executive order was not received fo...  \n",
      "2  January 12, 1937  Federal Register page and date: 2 FR 87, Janua...  \n",
      "3  January 12, 1937  Federal Register page and date: 2 FR 88, Janua...  \n",
      "4  January 12, 1937  Federal Register page and date: 2 FR 88, Janua...  \n"
     ]
    }
   ],
   "source": [
    "df_old = pd.read_csv('cleaned_data.csv')\n",
    "print(df_old.shape)\n",
    "print(df_old.head())"
   ]
  },
  {
   "cell_type": "code",
   "execution_count": 22,
   "id": "e1a85949-2646-43af-99bf-90c0852600ff",
   "metadata": {},
   "outputs": [],
   "source": [
    "df_old['signing_date'] = pd.to_datetime(df_old['signing_date'])"
   ]
  },
  {
   "cell_type": "code",
   "execution_count": 23,
   "id": "3f2fda96-98fd-4dbc-a39a-ca4efaaad3b2",
   "metadata": {},
   "outputs": [
    {
     "name": "stdout",
     "output_type": "stream",
     "text": [
      "  executive_order_number                                              title  \\\n",
      "0                   7532  Establishing Shinnecock Migratory Bird Refuge,...   \n",
      "1                   7533  Exemption of James E. Tibbitts From Compulsory...   \n",
      "2                   7534  Excluding Land From Sitgreaves National Forest...   \n",
      "3                   7535  Partial Revocation of   6110 of May 2, 1933, W...   \n",
      "4                   7536  Partial Revocation of   5687 of August 18, 193...   \n",
      "\n",
      "  signing_date                                  disposition_notes  \n",
      "0   1937-01-08  Federal Register page and date: 2 FR 63, Janua...  \n",
      "1   1937-01-11  Note: This Executive order was not received fo...  \n",
      "2   1937-01-12  Federal Register page and date: 2 FR 87, Janua...  \n",
      "3   1937-01-12  Federal Register page and date: 2 FR 88, Janua...  \n",
      "4   1937-01-12  Federal Register page and date: 2 FR 88, Janua...  \n"
     ]
    }
   ],
   "source": [
    "print(df_old.head())"
   ]
  },
  {
   "cell_type": "code",
   "execution_count": 25,
   "id": "4e2af891-0bc2-43b6-94d8-be2778aaeb59",
   "metadata": {},
   "outputs": [
    {
     "name": "stdout",
     "output_type": "stream",
     "text": [
      "  executive_order_number                                              title  \\\n",
      "0                   7532  Establishing Shinnecock Migratory Bird Refuge,...   \n",
      "1                   7533  Exemption of James E. Tibbitts From Compulsory...   \n",
      "2                   7534  Excluding Land From Sitgreaves National Forest...   \n",
      "3                   7535  Partial Revocation of   6110 of May 2, 1933, W...   \n",
      "4                   7536  Partial Revocation of   5687 of August 18, 193...   \n",
      "\n",
      "  signing_date                                  disposition_notes  \n",
      "0   1937-01-08  Federal Register page and date: 2 FR 63, Janua...  \n",
      "1   1937-01-11  Note: This Executive order was not received fo...  \n",
      "2   1937-01-12  Federal Register page and date: 2 FR 87, Janua...  \n",
      "3   1937-01-12  Federal Register page and date: 2 FR 88, Janua...  \n",
      "4   1937-01-12  Federal Register page and date: 2 FR 88, Janua...  \n"
     ]
    }
   ],
   "source": [
    "print(df_old.sort_values(by='signing_date', ascending = True).head())"
   ]
  },
  {
   "cell_type": "code",
   "execution_count": null,
   "id": "562d35ae-9479-4d99-b12f-52dbcc4ef9ad",
   "metadata": {},
   "outputs": [],
   "source": [
    "#import data from bulk CSV downloads\n",
    "\n",
    "file_prefix = 'documents_signed_by_'\n",
    "pres_names = ['joseph_r_biden_jr', 'donald_trump', 'barack_obama', 'george_w_bush', 'william_j_clinton']\n",
    "file_suffix = '_of_type_presidential_document_and_of_presidential_document_type_executive_order.csv'\n",
    "colnames = ['executive_order_number', 'title', 'signing_date', 'disposition_notes']\n",
    "\n",
    "df_all = pd.DataFrame(columns = colnames)\n",
    "for name in pres_names:\n",
    "    filename = file_prefix + name + file_suffix\n",
    "    df = pd.read_csv(filename)\n",
    "    df_subset = df[colnames]\n",
    "    print(name)\n",
    "    df_all = df_all.append(df_subset)\n",
    "print(df_all.head())\n",
    "print(df_all.shape)"
   ]
  }
 ],
 "metadata": {
  "kernelspec": {
   "display_name": "Python 3",
   "language": "python",
   "name": "python3"
  },
  "language_info": {
   "codemirror_mode": {
    "name": "ipython",
    "version": 3
   },
   "file_extension": ".py",
   "mimetype": "text/x-python",
   "name": "python",
   "nbconvert_exporter": "python",
   "pygments_lexer": "ipython3",
   "version": "3.9.4"
  }
 },
 "nbformat": 4,
 "nbformat_minor": 5
}
