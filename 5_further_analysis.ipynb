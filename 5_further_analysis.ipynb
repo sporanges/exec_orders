{
 "cells": [
  {
   "cell_type": "code",
   "execution_count": null,
   "id": "2bf69fea-c9c9-4602-886e-235e9824d9de",
   "metadata": {},
   "outputs": [],
   "source": [
    "#step 5: more analysis\n",
    "\n",
    "#see which orders revoke others (who revokes who? who revokes most per orders signed/per year? who was most revoked per signed/total?)\n",
    "#Revoke, Amend, Supercede\n"
   ]
  }
 ],
 "metadata": {
  "kernelspec": {
   "display_name": "Python 3",
   "language": "python",
   "name": "python3"
  },
  "language_info": {
   "codemirror_mode": {
    "name": "ipython",
    "version": 3
   },
   "file_extension": ".py",
   "mimetype": "text/x-python",
   "name": "python",
   "nbconvert_exporter": "python",
   "pygments_lexer": "ipython3",
   "version": "3.9.4"
  }
 },
 "nbformat": 4,
 "nbformat_minor": 5
}
