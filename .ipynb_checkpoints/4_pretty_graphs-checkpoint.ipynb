{
 "cells": [
  {
   "cell_type": "code",
   "execution_count": null,
   "id": "09f23041",
   "metadata": {},
   "outputs": [],
   "source": [
    "#step 4: pretty graph\n",
    "#step 5: interesting stats\n",
    "\n",
    "#see which orders revoke others (who revokes who? who revokes most per orders signed/per year?)\n",
    "#which orders supercede others? (who supercedes who? who supercedes most per orders signed/per year?)"
   ]
  }
 ],
 "metadata": {
  "kernelspec": {
   "display_name": "Python 3",
   "language": "python",
   "name": "python3"
  },
  "language_info": {
   "codemirror_mode": {
    "name": "ipython",
    "version": 3
   },
   "file_extension": ".py",
   "mimetype": "text/x-python",
   "name": "python",
   "nbconvert_exporter": "python",
   "pygments_lexer": "ipython3",
   "version": "3.9.4"
  }
 },
 "nbformat": 4,
 "nbformat_minor": 5
}
