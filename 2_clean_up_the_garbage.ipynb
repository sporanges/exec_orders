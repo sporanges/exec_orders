{
 "cells": [
  {
   "cell_type": "code",
   "execution_count": 2,
   "id": "5543df3a",
   "metadata": {},
   "outputs": [
    {
     "name": "stdout",
     "output_type": "stream",
     "text": [
      "(1000, 13)\n"
     ]
    }
   ],
   "source": [
    "#step 2: clean the garbage data because even though it's regarding the highest office in the country,\n",
    "#it's still a govennment website\n",
    "\n",
    "import pandas as pd\n",
    "filename = 'documents_of_type_presidential_document_and_of_presidential_document_type_executive_order.csv'\n",
    "\n",
    "df = pd.read_csv(filename)\n",
    "print(df.shape)"
   ]
  }
 ],
 "metadata": {
  "kernelspec": {
   "display_name": "Python 3",
   "language": "python",
   "name": "python3"
  },
  "language_info": {
   "codemirror_mode": {
    "name": "ipython",
    "version": 3
   },
   "file_extension": ".py",
   "mimetype": "text/x-python",
   "name": "python",
   "nbconvert_exporter": "python",
   "pygments_lexer": "ipython3",
   "version": "3.9.4"
  }
 },
 "nbformat": 4,
 "nbformat_minor": 5
}
