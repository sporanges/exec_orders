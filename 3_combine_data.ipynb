{
 "cells": [
  {
   "cell_type": "code",
   "execution_count": 7,
   "id": "bc6ffc9d-0c77-4a24-9b03-1b4182fa01c4",
   "metadata": {},
   "outputs": [],
   "source": [
    "import pandas as pd\n",
    "import datetime\n",
    "pd.options.mode.chained_assignment = None"
   ]
  },
  {
   "cell_type": "code",
   "execution_count": 21,
   "id": "6c2d8d13-ab56-41f1-8aba-a24c80baf227",
   "metadata": {},
   "outputs": [
    {
     "name": "stdout",
     "output_type": "stream",
     "text": [
      "(5449, 7)\n",
      "  executive_order_number                                              title  \\\n",
      "0                   7532  Establishing Shinnecock Migratory Bird Refuge,...   \n",
      "1                   7533  Exemption of James E. Tibbitts From Compulsory...   \n",
      "2                   7534  Excluding Land From Sitgreaves National Forest...   \n",
      "3                   7535  Partial Revocation of   6110 of May 2, 1933, W...   \n",
      "4                   7536  Partial Revocation of   5687 of August 18, 193...   \n",
      "\n",
      "  signing_date                                  disposition_notes president  \\\n",
      "0   1937-01-08  Federal Register page and date: 2 FR 63, Janua...      name   \n",
      "1   1937-01-11  Note: This Executive order was not received fo...      name   \n",
      "2   1937-01-12  Federal Register page and date: 2 FR 87, Janua...      name   \n",
      "3   1937-01-12  Federal Register page and date: 2 FR 88, Janua...      name   \n",
      "4   1937-01-12  Federal Register page and date: 2 FR 88, Janua...      name   \n",
      "\n",
      "   days  count  \n",
      "0     0      0  \n",
      "1     0      0  \n",
      "2     0      0  \n",
      "3     0      0  \n",
      "4     0      0  \n"
     ]
    }
   ],
   "source": [
    "df_old = pd.read_csv('cleaned_data.csv')\n",
    "\n",
    "#need to add in newer files before below processing\n",
    "\n",
    "df_old['signing_date'] = pd.to_datetime(df_old['signing_date'])\n",
    "df_old['president'] = 'name'\n",
    "df_old['days'] = 0\n",
    "df_old['count'] = 0\n",
    "print(df_old.shape)\n",
    "print(df_old.head())"
   ]
  },
  {
   "cell_type": "code",
   "execution_count": 26,
   "id": "4e2af891-0bc2-43b6-94d8-be2778aaeb59",
   "metadata": {},
   "outputs": [],
   "source": [
    "df_old.sort_values(by='signing_date', ascending = True, inplace = True)"
   ]
  },
  {
   "cell_type": "code",
   "execution_count": 22,
   "id": "ced60a1e-cc29-4783-b5a8-55278a1715d9",
   "metadata": {},
   "outputs": [
    {
     "name": "stdout",
     "output_type": "stream",
     "text": [
      "2021-09-18\n",
      "                   name inaug_date\n",
      "0  Franklin D Roosevelt 1933-03-04\n",
      "1        Harry S Truman 1945-04-12\n",
      "2   Dwight D Eisenhower 1953-01-20\n",
      "3        John F Kennedy 1961-01-20\n",
      "4      Lyndon B Johnson 1963-11-22\n"
     ]
    }
   ],
   "source": [
    "#next step - add column with president name\n",
    "df_inaug = pd.read_csv('inaug_dates.csv')\n",
    "today = datetime.date.today()\n",
    "print(today)\n",
    "df_inaug.loc[len(df_inaug.index)] = ['Today', today]\n",
    "\n",
    "df_inaug['inaug_date'] = pd.to_datetime(df_inaug['inaug_date'])\n",
    "print(df_inaug.head())\n",
    "#subset df by dates"
   ]
  },
  {
   "cell_type": "code",
   "execution_count": 24,
   "id": "accc465a-c0d7-4215-bcfe-a3a2497a73b3",
   "metadata": {
    "tags": []
   },
   "outputs": [
    {
     "name": "stdout",
     "output_type": "stream",
     "text": [
      "  executive_order_number                                              title  \\\n",
      "0                   7532  Establishing Shinnecock Migratory Bird Refuge,...   \n",
      "1                   7533  Exemption of James E. Tibbitts From Compulsory...   \n",
      "2                   7534  Excluding Land From Sitgreaves National Forest...   \n",
      "3                   7535  Partial Revocation of   6110 of May 2, 1933, W...   \n",
      "4                   7536  Partial Revocation of   5687 of August 18, 193...   \n",
      "\n",
      "  signing_date                                  disposition_notes  \\\n",
      "0   1937-01-08  Federal Register page and date: 2 FR 63, Janua...   \n",
      "1   1937-01-11  Note: This Executive order was not received fo...   \n",
      "2   1937-01-12  Federal Register page and date: 2 FR 87, Janua...   \n",
      "3   1937-01-12  Federal Register page and date: 2 FR 88, Janua...   \n",
      "4   1937-01-12  Federal Register page and date: 2 FR 88, Janua...   \n",
      "\n",
      "              president      days   count  \n",
      "0  Franklin D Roosevelt 1406 days  1716.0  \n",
      "1  Franklin D Roosevelt 1409 days  1717.0  \n",
      "2  Franklin D Roosevelt 1410 days  1718.0  \n",
      "3  Franklin D Roosevelt 1410 days  1719.0  \n",
      "4  Franklin D Roosevelt 1410 days  1720.0  \n"
     ]
    }
   ],
   "source": [
    "for i in range(df_inaug.shape[0] - 1):\n",
    "    name = df_inaug.at[i, 'name']\n",
    "    start_date = df_inaug.at[i, 'inaug_date']\n",
    "    end_date = df_inaug.at[i+1, 'inaug_date']\n",
    "\n",
    "    df_subset = df_old.loc[(df_old['signing_date'] >= start_date) & (df_old['signing_date'] < end_date)]\n",
    "    df_subset['president'] = df_inaug.at[i, 'name']\n",
    "    df_subset['days'] = df_subset['signing_date'] - start_date\n",
    "    #can't straight subtract due to -A orders\n",
    "    #can't go by index due to misordering\n",
    "    df_subset['count'] = [*range(1, df_subset.shape[0] + 1)]\n",
    "    #have to update for FDR, data starts partway through his presidency\n",
    "    if i == 0:\n",
    "        df_subset['count'] = df_subset['count'] + 1715\n",
    "    df_old.update(df_subset)\n",
    "    \n",
    "print(df_old.head())"
   ]
  },
  {
   "cell_type": "code",
   "execution_count": 25,
   "id": "b0a81fc9-a31b-4eb7-bfc3-b0d71f397a50",
   "metadata": {},
   "outputs": [
    {
     "name": "stdout",
     "output_type": "stream",
     "text": [
      "     executive_order_number  \\\n",
      "5444                  12940   \n",
      "5445                  12941   \n",
      "5446                  12942   \n",
      "5447                  12943   \n",
      "5448                  12944   \n",
      "\n",
      "                                                  title signing_date  \\\n",
      "5444                 Amendment to Civil Service Rule VI   1994-11-28   \n",
      "5445  Seismic safety of existing Federally owned or ...   1994-12-01   \n",
      "5446  Addition to level V of the Executive Schedule ...   1994-12-12   \n",
      "5447                       Further amendment to   11755   1994-12-13   \n",
      "5448  Adjustments of certain rates of pay and allowa...   1994-12-28   \n",
      "\n",
      "                                      disposition_notes          president  \\\n",
      "5444  Federal Register page and date: 59 FR 61519; N...  William J Clinton   \n",
      "5445  Federal Register page and date: 59 FR 62545; D...  William J Clinton   \n",
      "5446  Federal Register page and date: 59 FR 64551; D...  William J Clinton   \n",
      "5447  Federal Register page and date: 59 FR 64553; D...  William J Clinton   \n",
      "5448  Federal Register page and date: 60 FR 309; Jan...  William J Clinton   \n",
      "\n",
      "         days  count  \n",
      "5444 677 days  107.0  \n",
      "5445 680 days  108.0  \n",
      "5446 691 days  109.0  \n",
      "5447 692 days  110.0  \n",
      "5448 707 days  111.0  \n"
     ]
    }
   ],
   "source": [
    "print(df_old.tail())"
   ]
  },
  {
   "cell_type": "code",
   "execution_count": 14,
   "id": "13a56418-8bac-475a-9634-4e31559eff00",
   "metadata": {},
   "outputs": [
    {
     "name": "stdout",
     "output_type": "stream",
     "text": [
      "1945-04-12 00:00:00 1945-04-13 00:00:00\n",
      "<class 'pandas._libs.tslibs.timedeltas.Timedelta'>\n"
     ]
    }
   ],
   "source": [
    "#days from inaug date\n",
    "#df_old['days'] = 0\n",
    "day1 = df_inaug.at[1, 'inaug_date']\n",
    "dayx = df_old.at[2025, 'signing_date']\n",
    "\n",
    "print(day1, dayx)\n",
    "daysin = dayx - day1\n",
    "print(type(daysin))\n"
   ]
  },
  {
   "cell_type": "code",
   "execution_count": 28,
   "id": "391a629a-174a-4df4-8dc2-0fa6f166c356",
   "metadata": {},
   "outputs": [
    {
     "name": "stdout",
     "output_type": "stream",
     "text": [
      "     executive_order_number  \\\n",
      "2775                  10276   \n",
      "3417                  10914   \n",
      "3418                  10915   \n",
      "3419                  10916   \n",
      "3420                  10917   \n",
      "...                     ...   \n",
      "3633                  11123   \n",
      "3634                  11124   \n",
      "3635                  11125   \n",
      "3636                  11126   \n",
      "3637                  11127   \n",
      "\n",
      "                                                  title signing_date  \\\n",
      "2775  Administration of the Housing and Rent Act of ...   1961-07-31   \n",
      "3417  Providing for an expanded program of food dist...   1961-01-21   \n",
      "3418  Amending prior s to provide for the responsibi...   1961-01-24   \n",
      "3419  Inspection of income, estate, and gift tax ret...   1961-01-24   \n",
      "3420  Abolishing certain committees on Government or...   1961-02-10   \n",
      "...                                                 ...          ...   \n",
      "3633  Amendment of   10853,\\n      relating to vario...   1963-10-18   \n",
      "3634  Enlarging the membership of the President's Ad...   1963-10-28   \n",
      "3635  Delegating authority of the President under se...   1963-10-29   \n",
      "3636  Establishing a committee and a council relatin...   1963-11-01   \n",
      "3637  Creating an emergency board to investigate a d...   1963-11-09   \n",
      "\n",
      "                                      disposition_notes  \n",
      "2775  Federal Register page and date: 16 FR 7535, Au...  \n",
      "3417  Federal Register page and date: 26 FR 639, Jan...  \n",
      "3418  Federal Register page and date: 26 FR 781, Jan...  \n",
      "3419  Federal Register page and date: 26 FR 781, Jan...  \n",
      "3420  Federal Register page and date: 26 FR 1239, Fe...  \n",
      "...                                                 ...  \n",
      "3633  Federal Register page and date: 28 FR 11249; O...  \n",
      "3634  Federal Register page and date: 28 FR 11607; O...  \n",
      "3635  Federal Register page and date: 28 FR 11609; O...  \n",
      "3636  Federal Register page and date: 28 FR 11717; N...  \n",
      "3637  Federal Register page and date: 28 FR 12079; N...  \n",
      "\n",
      "[215 rows x 4 columns]\n"
     ]
    }
   ],
   "source": [
    "print(df_old.loc[(df_old['signing_date'] >= '1961-01-20') & (df_old['signing_date'] < '1963-11-22')])"
   ]
  },
  {
   "cell_type": "code",
   "execution_count": null,
   "id": "562d35ae-9479-4d99-b12f-52dbcc4ef9ad",
   "metadata": {
    "jupyter": {
     "source_hidden": true
    },
    "tags": []
   },
   "outputs": [],
   "source": [
    "#import data from bulk CSV downloads\n",
    "\n",
    "file_prefix = 'documents_signed_by_'\n",
    "pres_names = ['joseph_r_biden_jr', 'donald_trump', 'barack_obama', 'george_w_bush', 'william_j_clinton']\n",
    "file_suffix = '_of_type_presidential_document_and_of_presidential_document_type_executive_order.csv'\n",
    "colnames = ['executive_order_number', 'title', 'signing_date', 'disposition_notes']\n",
    "\n",
    "df_all = pd.DataFrame(columns = colnames)\n",
    "for name in pres_names:\n",
    "    filename = file_prefix + name + file_suffix\n",
    "    df = pd.read_csv(filename)\n",
    "    df_subset = df[colnames]\n",
    "    print(name)\n",
    "    df_all = df_all.append(df_subset)\n",
    "print(df_all.head())\n",
    "print(df_all.shape)"
   ]
  }
 ],
 "metadata": {
  "kernelspec": {
   "display_name": "Python 3",
   "language": "python",
   "name": "python3"
  },
  "language_info": {
   "codemirror_mode": {
    "name": "ipython",
    "version": 3
   },
   "file_extension": ".py",
   "mimetype": "text/x-python",
   "name": "python",
   "nbconvert_exporter": "python",
   "pygments_lexer": "ipython3",
   "version": "3.9.4"
  }
 },
 "nbformat": 4,
 "nbformat_minor": 5
}
